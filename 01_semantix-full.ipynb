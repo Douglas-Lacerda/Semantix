{
 "cells": [
  {
   "cell_type": "markdown",
   "metadata": {},
   "source": [
    "### Semantix - Desafio\n",
    "\n",
    "Dataset: Bank Marketing"
   ]
  },
  {
   "cell_type": "markdown",
   "metadata": {},
   "source": [
    "Importação das bibliotecas e informação sobre as versões utilizadas"
   ]
  },
  {
   "cell_type": "code",
   "execution_count": 1,
   "metadata": {},
   "outputs": [],
   "source": [
    "import sys\n",
    "import numpy as np\n",
    "import pandas as pd\n",
    "import seaborn as sns\n",
    "import matplotlib as mtl\n",
    "import matplotlib.pyplot as plt\n",
    "\n",
    "%matplotlib inline"
   ]
  },
  {
   "cell_type": "code",
   "execution_count": 2,
   "metadata": {},
   "outputs": [
    {
     "name": "stdout",
     "output_type": "stream",
     "text": [
      "Versões: \n",
      "Python: 3.6.7 (default, Feb 28 2019, 07:28:18) [MSC v.1900 64 bit (AMD64)]\n",
      "Numpy: 1.18.1\n",
      "Pandas: 0.25.3\n",
      "Seaborn: 0.9.0\n",
      "Matplotlib: 3.1.2\n"
     ]
    }
   ],
   "source": [
    "# exibição das versões utilizadas:\n",
    "print(\"Versões: \")\n",
    "print (\"Python: {}\".format(sys.version))\n",
    "print (\"Numpy: {}\".format(np.__version__))\n",
    "print (\"Pandas: {}\".format(pd.__version__))\n",
    "print (\"Seaborn: {}\".format(sns.__version__))\n",
    "print (\"Matplotlib: {}\".format(mtl.__version__))\n"
   ]
  },
  {
   "cell_type": "markdown",
   "metadata": {},
   "source": [
    "</br>\n",
    "Importando os dados"
   ]
  },
  {
   "cell_type": "code",
   "execution_count": 3,
   "metadata": {},
   "outputs": [],
   "source": [
    "# leitura dos dados\n",
    "amostra = pd.read_csv('bank-full.csv', sep = ';')"
   ]
  },
  {
   "cell_type": "code",
   "execution_count": 4,
   "metadata": {},
   "outputs": [
    {
     "name": "stdout",
     "output_type": "stream",
     "text": [
      "Tamanho do df:  (45211, 17)\n",
      "\n",
      "Nomes das colunas:  Index(['age', 'job', 'marital', 'education', 'default', 'balance', 'housing',\n",
      "       'loan', 'contact', 'day', 'month', 'duration', 'campaign', 'pdays',\n",
      "       'previous', 'poutcome', 'y'],\n",
      "      dtype='object')\n"
     ]
    }
   ],
   "source": [
    "print(\"Tamanho do df: \", amostra.shape)\n",
    "print()\n",
    "print(\"Nomes das colunas: \", amostra.columns)"
   ]
  },
  {
   "cell_type": "code",
   "execution_count": 5,
   "metadata": {},
   "outputs": [
    {
     "data": {
      "text/html": [
       "<div>\n",
       "<style scoped>\n",
       "    .dataframe tbody tr th:only-of-type {\n",
       "        vertical-align: middle;\n",
       "    }\n",
       "\n",
       "    .dataframe tbody tr th {\n",
       "        vertical-align: top;\n",
       "    }\n",
       "\n",
       "    .dataframe thead th {\n",
       "        text-align: right;\n",
       "    }\n",
       "</style>\n",
       "<table border=\"1\" class=\"dataframe\">\n",
       "  <thead>\n",
       "    <tr style=\"text-align: right;\">\n",
       "      <th></th>\n",
       "      <th>age</th>\n",
       "      <th>job</th>\n",
       "      <th>marital</th>\n",
       "      <th>education</th>\n",
       "      <th>default</th>\n",
       "      <th>balance</th>\n",
       "      <th>housing</th>\n",
       "      <th>loan</th>\n",
       "      <th>contact</th>\n",
       "      <th>day</th>\n",
       "      <th>month</th>\n",
       "      <th>duration</th>\n",
       "      <th>campaign</th>\n",
       "      <th>pdays</th>\n",
       "      <th>previous</th>\n",
       "      <th>poutcome</th>\n",
       "      <th>y</th>\n",
       "    </tr>\n",
       "  </thead>\n",
       "  <tbody>\n",
       "    <tr>\n",
       "      <th>0</th>\n",
       "      <td>58</td>\n",
       "      <td>management</td>\n",
       "      <td>married</td>\n",
       "      <td>tertiary</td>\n",
       "      <td>no</td>\n",
       "      <td>2143</td>\n",
       "      <td>yes</td>\n",
       "      <td>no</td>\n",
       "      <td>unknown</td>\n",
       "      <td>5</td>\n",
       "      <td>may</td>\n",
       "      <td>261</td>\n",
       "      <td>1</td>\n",
       "      <td>-1</td>\n",
       "      <td>0</td>\n",
       "      <td>unknown</td>\n",
       "      <td>no</td>\n",
       "    </tr>\n",
       "    <tr>\n",
       "      <th>1</th>\n",
       "      <td>44</td>\n",
       "      <td>technician</td>\n",
       "      <td>single</td>\n",
       "      <td>secondary</td>\n",
       "      <td>no</td>\n",
       "      <td>29</td>\n",
       "      <td>yes</td>\n",
       "      <td>no</td>\n",
       "      <td>unknown</td>\n",
       "      <td>5</td>\n",
       "      <td>may</td>\n",
       "      <td>151</td>\n",
       "      <td>1</td>\n",
       "      <td>-1</td>\n",
       "      <td>0</td>\n",
       "      <td>unknown</td>\n",
       "      <td>no</td>\n",
       "    </tr>\n",
       "    <tr>\n",
       "      <th>2</th>\n",
       "      <td>33</td>\n",
       "      <td>entrepreneur</td>\n",
       "      <td>married</td>\n",
       "      <td>secondary</td>\n",
       "      <td>no</td>\n",
       "      <td>2</td>\n",
       "      <td>yes</td>\n",
       "      <td>yes</td>\n",
       "      <td>unknown</td>\n",
       "      <td>5</td>\n",
       "      <td>may</td>\n",
       "      <td>76</td>\n",
       "      <td>1</td>\n",
       "      <td>-1</td>\n",
       "      <td>0</td>\n",
       "      <td>unknown</td>\n",
       "      <td>no</td>\n",
       "    </tr>\n",
       "    <tr>\n",
       "      <th>3</th>\n",
       "      <td>47</td>\n",
       "      <td>blue-collar</td>\n",
       "      <td>married</td>\n",
       "      <td>unknown</td>\n",
       "      <td>no</td>\n",
       "      <td>1506</td>\n",
       "      <td>yes</td>\n",
       "      <td>no</td>\n",
       "      <td>unknown</td>\n",
       "      <td>5</td>\n",
       "      <td>may</td>\n",
       "      <td>92</td>\n",
       "      <td>1</td>\n",
       "      <td>-1</td>\n",
       "      <td>0</td>\n",
       "      <td>unknown</td>\n",
       "      <td>no</td>\n",
       "    </tr>\n",
       "    <tr>\n",
       "      <th>4</th>\n",
       "      <td>33</td>\n",
       "      <td>unknown</td>\n",
       "      <td>single</td>\n",
       "      <td>unknown</td>\n",
       "      <td>no</td>\n",
       "      <td>1</td>\n",
       "      <td>no</td>\n",
       "      <td>no</td>\n",
       "      <td>unknown</td>\n",
       "      <td>5</td>\n",
       "      <td>may</td>\n",
       "      <td>198</td>\n",
       "      <td>1</td>\n",
       "      <td>-1</td>\n",
       "      <td>0</td>\n",
       "      <td>unknown</td>\n",
       "      <td>no</td>\n",
       "    </tr>\n",
       "  </tbody>\n",
       "</table>\n",
       "</div>"
      ],
      "text/plain": [
       "   age           job  marital  education default  balance housing loan  \\\n",
       "0   58    management  married   tertiary      no     2143     yes   no   \n",
       "1   44    technician   single  secondary      no       29     yes   no   \n",
       "2   33  entrepreneur  married  secondary      no        2     yes  yes   \n",
       "3   47   blue-collar  married    unknown      no     1506     yes   no   \n",
       "4   33       unknown   single    unknown      no        1      no   no   \n",
       "\n",
       "   contact  day month  duration  campaign  pdays  previous poutcome   y  \n",
       "0  unknown    5   may       261         1     -1         0  unknown  no  \n",
       "1  unknown    5   may       151         1     -1         0  unknown  no  \n",
       "2  unknown    5   may        76         1     -1         0  unknown  no  \n",
       "3  unknown    5   may        92         1     -1         0  unknown  no  \n",
       "4  unknown    5   may       198         1     -1         0  unknown  no  "
      ]
     },
     "execution_count": 5,
     "metadata": {},
     "output_type": "execute_result"
    }
   ],
   "source": [
    "amostra.head()"
   ]
  },
  {
   "cell_type": "markdown",
   "metadata": {},
   "source": [
    "### 1-Qual profissão tem mais tendência a fazer um empréstimo? De qual tipo?\n",
    "\n",
    "#### Resposta: A maior frequencia de emprestimos é da profissão 'blue-collar' e com maioria (80,7%) deles em housing"
   ]
  },
  {
   "cell_type": "code",
   "execution_count": 6,
   "metadata": {},
   "outputs": [],
   "source": [
    "# seleciona as colunas job e emprestimos (residencia e pessoal)\n",
    "amostra1 = amostra[['job','housing', 'loan']]"
   ]
  },
  {
   "cell_type": "code",
   "execution_count": 7,
   "metadata": {},
   "outputs": [
    {
     "data": {
      "text/plain": [
       "Index(['housing_no', 'housing_yes', 'loan_no', 'loan_yes'], dtype='object')"
      ]
     },
     "execution_count": 7,
     "metadata": {},
     "output_type": "execute_result"
    }
   ],
   "source": [
    "amostra2 = pd.get_dummies(amostra1[['housing', 'loan']])\n",
    "amostra2.columns"
   ]
  },
  {
   "cell_type": "code",
   "execution_count": 8,
   "metadata": {},
   "outputs": [
    {
     "data": {
      "text/html": [
       "<div>\n",
       "<style scoped>\n",
       "    .dataframe tbody tr th:only-of-type {\n",
       "        vertical-align: middle;\n",
       "    }\n",
       "\n",
       "    .dataframe tbody tr th {\n",
       "        vertical-align: top;\n",
       "    }\n",
       "\n",
       "    .dataframe thead th {\n",
       "        text-align: right;\n",
       "    }\n",
       "</style>\n",
       "<table border=\"1\" class=\"dataframe\">\n",
       "  <thead>\n",
       "    <tr style=\"text-align: right;\">\n",
       "      <th></th>\n",
       "      <th>job</th>\n",
       "      <th>housing</th>\n",
       "      <th>loan</th>\n",
       "    </tr>\n",
       "  </thead>\n",
       "  <tbody>\n",
       "    <tr>\n",
       "      <th>0</th>\n",
       "      <td>management</td>\n",
       "      <td>1</td>\n",
       "      <td>0</td>\n",
       "    </tr>\n",
       "    <tr>\n",
       "      <th>1</th>\n",
       "      <td>technician</td>\n",
       "      <td>1</td>\n",
       "      <td>0</td>\n",
       "    </tr>\n",
       "    <tr>\n",
       "      <th>2</th>\n",
       "      <td>entrepreneur</td>\n",
       "      <td>1</td>\n",
       "      <td>1</td>\n",
       "    </tr>\n",
       "    <tr>\n",
       "      <th>3</th>\n",
       "      <td>blue-collar</td>\n",
       "      <td>1</td>\n",
       "      <td>0</td>\n",
       "    </tr>\n",
       "    <tr>\n",
       "      <th>4</th>\n",
       "      <td>unknown</td>\n",
       "      <td>0</td>\n",
       "      <td>0</td>\n",
       "    </tr>\n",
       "  </tbody>\n",
       "</table>\n",
       "</div>"
      ],
      "text/plain": [
       "            job  housing  loan\n",
       "0    management        1     0\n",
       "1    technician        1     0\n",
       "2  entrepreneur        1     1\n",
       "3   blue-collar        1     0\n",
       "4       unknown        0     0"
      ]
     },
     "execution_count": 8,
     "metadata": {},
     "output_type": "execute_result"
    }
   ],
   "source": [
    "dados = {'job': amostra1['job'], 'housing': amostra2['housing_yes'], 'loan': amostra2['loan_yes']}\n",
    "amostra3 = pd.DataFrame(dados)\n",
    "amostra3.head()"
   ]
  },
  {
   "cell_type": "code",
   "execution_count": 9,
   "metadata": {},
   "outputs": [
    {
     "name": "stdout",
     "output_type": "stream",
     "text": [
      "Tamanho do df:  (12, 2)\n",
      "\n",
      "\n",
      "              housing    loan\n",
      "job                          \n",
      "admin.         3182.0   991.0\n",
      "blue-collar    7048.0  1684.0\n",
      "entrepreneur    869.0   356.0\n",
      "housemaid       398.0   152.0\n",
      "management     4678.0  1253.0\n"
     ]
    }
   ],
   "source": [
    "byjob = amostra3.groupby('job').sum()\n",
    "print('Tamanho do df: ', byjob.shape)\n",
    "print('\\n')\n",
    "print(byjob.head())"
   ]
  },
  {
   "cell_type": "code",
   "execution_count": 10,
   "metadata": {},
   "outputs": [],
   "source": [
    "# cria a coluna emprestimos: housing + loan\n",
    "byjob['emprestimos'] = byjob.apply(lambda row: row.housing + row.loan, axis = 1)\n",
    "\n",
    "# cria a coluna job\n",
    "byjob['job'] = byjob.index"
   ]
  },
  {
   "cell_type": "code",
   "execution_count": 11,
   "metadata": {},
   "outputs": [
    {
     "data": {
      "text/html": [
       "<div>\n",
       "<style scoped>\n",
       "    .dataframe tbody tr th:only-of-type {\n",
       "        vertical-align: middle;\n",
       "    }\n",
       "\n",
       "    .dataframe tbody tr th {\n",
       "        vertical-align: top;\n",
       "    }\n",
       "\n",
       "    .dataframe thead th {\n",
       "        text-align: right;\n",
       "    }\n",
       "</style>\n",
       "<table border=\"1\" class=\"dataframe\">\n",
       "  <thead>\n",
       "    <tr style=\"text-align: right;\">\n",
       "      <th></th>\n",
       "      <th>housing</th>\n",
       "      <th>loan</th>\n",
       "      <th>emprestimos</th>\n",
       "      <th>job</th>\n",
       "    </tr>\n",
       "    <tr>\n",
       "      <th>job</th>\n",
       "      <th></th>\n",
       "      <th></th>\n",
       "      <th></th>\n",
       "      <th></th>\n",
       "    </tr>\n",
       "  </thead>\n",
       "  <tbody>\n",
       "    <tr>\n",
       "      <th>blue-collar</th>\n",
       "      <td>7048.0</td>\n",
       "      <td>1684.0</td>\n",
       "      <td>8732.0</td>\n",
       "      <td>blue-collar</td>\n",
       "    </tr>\n",
       "    <tr>\n",
       "      <th>management</th>\n",
       "      <td>4678.0</td>\n",
       "      <td>1253.0</td>\n",
       "      <td>5931.0</td>\n",
       "      <td>management</td>\n",
       "    </tr>\n",
       "    <tr>\n",
       "      <th>technician</th>\n",
       "      <td>4115.0</td>\n",
       "      <td>1309.0</td>\n",
       "      <td>5424.0</td>\n",
       "      <td>technician</td>\n",
       "    </tr>\n",
       "    <tr>\n",
       "      <th>admin.</th>\n",
       "      <td>3182.0</td>\n",
       "      <td>991.0</td>\n",
       "      <td>4173.0</td>\n",
       "      <td>admin.</td>\n",
       "    </tr>\n",
       "    <tr>\n",
       "      <th>services</th>\n",
       "      <td>2766.0</td>\n",
       "      <td>836.0</td>\n",
       "      <td>3602.0</td>\n",
       "      <td>services</td>\n",
       "    </tr>\n",
       "  </tbody>\n",
       "</table>\n",
       "</div>"
      ],
      "text/plain": [
       "             housing    loan  emprestimos          job\n",
       "job                                                   \n",
       "blue-collar   7048.0  1684.0       8732.0  blue-collar\n",
       "management    4678.0  1253.0       5931.0   management\n",
       "technician    4115.0  1309.0       5424.0   technician\n",
       "admin.        3182.0   991.0       4173.0       admin.\n",
       "services      2766.0   836.0       3602.0     services"
      ]
     },
     "execution_count": 11,
     "metadata": {},
     "output_type": "execute_result"
    }
   ],
   "source": [
    "# ordena os valores\n",
    "byjob = byjob.sort_values(by=['emprestimos'], ascending = False)\n",
    "byjob.head()"
   ]
  },
  {
   "cell_type": "code",
   "execution_count": 12,
   "metadata": {},
   "outputs": [
    {
     "data": {
      "image/png": "[encoded data removed]",
      "text/plain": [
       "<Figure size 1008x432 with 1 Axes>"
      ]
     },
     "metadata": {
      "needs_background": "light"
     },
     "output_type": "display_data"
    }
   ],
   "source": [
    "plt.figure(figsize=(14,6))\n",
    "plt.title('Emprestimos: housing + loan')\n",
    "graf_barra = sns.barplot(x='job',y='emprestimos',data=byjob)\n",
    "for g in graf_barra.patches:\n",
    "        graf_barra.annotate('{:.0f}'.format(g.get_height()), (g.get_x()+0.3, g.get_height()),\n",
    "                    ha='center', va='bottom',\n",
    "                    color= 'black')"
   ]
  },
  {
   "cell_type": "code",
   "execution_count": 13,
   "metadata": {},
   "outputs": [
    {
     "data": {
      "image/png": "[encoded data removed]",
      "text/plain": [
       "<Figure size 1008x432 with 1 Axes>"
      ]
     },
     "metadata": {
      "needs_background": "light"
     },
     "output_type": "display_data"
    }
   ],
   "source": [
    "plt.figure(figsize=(14,6))\n",
    "plt.title('Housing')\n",
    "graf_barra2 = sns.barplot(x='job',y='housing',data=byjob)\n",
    "for g in graf_barra2.patches:\n",
    "        graf_barra2.annotate('{:.0f}'.format(g.get_height()), (g.get_x()+0.3, g.get_height()),\n",
    "                    ha='center', va='bottom',\n",
    "                    color= 'black')"
   ]
  },
  {
   "cell_type": "code",
   "execution_count": 14,
   "metadata": {},
   "outputs": [
    {
     "data": {
      "image/png": "[encoded data removed]",
      "text/plain": [
       "<Figure size 1008x432 with 1 Axes>"
      ]
     },
     "metadata": {
      "needs_background": "light"
     },
     "output_type": "display_data"
    }
   ],
   "source": [
    "plt.figure(figsize=(14,6))\n",
    "plt.title('Loan')\n",
    "graf_barra2 = sns.barplot(x='job',y='loan',data=byjob)\n",
    "for g in graf_barra2.patches:\n",
    "        graf_barra2.annotate('{:.0f}'.format(g.get_height()), (g.get_x()+0.3, g.get_height()),\n",
    "                    ha='center', va='bottom',\n",
    "                    color= 'black')"
   ]
  },
  {
   "cell_type": "code",
   "execution_count": 15,
   "metadata": {},
   "outputs": [],
   "source": [
    "# seleciona a profissão (da quarta coluna, com indice [3]) com maior contagem de sim, ou seja, na primeira linha - indice[0]\n",
    "maior_job = byjob.iloc[0,3]\n",
    "emprestimo =  byjob.iloc[0,2]\n",
    "housing = byjob.iloc[0,0]\n",
    "loan = byjob.iloc[0,1]"
   ]
  },
  {
   "cell_type": "code",
   "execution_count": 16,
   "metadata": {},
   "outputs": [
    {
     "data": {
      "text/plain": [
       "housing               7048\n",
       "loan                  1684\n",
       "emprestimos           8732\n",
       "job            blue-collar\n",
       "Name: blue-collar, dtype: object"
      ]
     },
     "execution_count": 16,
     "metadata": {},
     "output_type": "execute_result"
    }
   ],
   "source": [
    "top = byjob.iloc[0,]\n",
    "top"
   ]
  },
  {
   "cell_type": "code",
   "execution_count": 17,
   "metadata": {},
   "outputs": [],
   "source": [
    "dados = {'tipo': top.index.tolist()[0:3], 'qtde': top.values.tolist()[0:3]}\n",
    "df_graf = pd.DataFrame(dados)"
   ]
  },
  {
   "cell_type": "code",
   "execution_count": 18,
   "metadata": {},
   "outputs": [
    {
     "data": {
      "image/png": "[encoded data removed]",
      "text/plain": [
       "<Figure size 720x432 with 1 Axes>"
      ]
     },
     "metadata": {
      "needs_background": "light"
     },
     "output_type": "display_data"
    }
   ],
   "source": [
    "# plotando o grafico por tipo de emprestimo da profissão com mais emprestimos totais\n",
    "plt.figure(figsize=(10,6))\n",
    "plt.title(maior_job,)\n",
    "graf_barra2 = sns.barplot(x = 'tipo', y='qtde', data=dados, palette = \"GnBu\")\n",
    "for g in graf_barra2.patches:\n",
    "        graf_barra2.annotate('{:.0f}'.format(g.get_height()), (g.get_x()+0.3, g.get_height()),\n",
    "                    ha='center', va='bottom',\n",
    "                    color= 'black')"
   ]
  },
  {
   "cell_type": "code",
   "execution_count": null,
   "metadata": {},
   "outputs": [],
   "source": []
  },
  {
   "cell_type": "markdown",
   "metadata": {},
   "source": [
    "### 2-Fazendo uma relação entre número de contatos e sucesso da campanha quais são os pontos relevantes a serem observados?\n",
    "#### Resposta: A correlação entre a quantidade de contatos e o sucesso (ou não) da campanha é bastante fraco quando analisados isoladamente."
   ]
  },
  {
   "cell_type": "code",
   "execution_count": 19,
   "metadata": {},
   "outputs": [],
   "source": [
    "amostra2 = amostra[['y', 'contact', 'campaign', 'previous']]"
   ]
  },
  {
   "cell_type": "code",
   "execution_count": 20,
   "metadata": {},
   "outputs": [
    {
     "data": {
      "text/html": [
       "<div>\n",
       "<style scoped>\n",
       "    .dataframe tbody tr th:only-of-type {\n",
       "        vertical-align: middle;\n",
       "    }\n",
       "\n",
       "    .dataframe tbody tr th {\n",
       "        vertical-align: top;\n",
       "    }\n",
       "\n",
       "    .dataframe thead th {\n",
       "        text-align: right;\n",
       "    }\n",
       "</style>\n",
       "<table border=\"1\" class=\"dataframe\">\n",
       "  <thead>\n",
       "    <tr style=\"text-align: right;\">\n",
       "      <th></th>\n",
       "      <th>y</th>\n",
       "      <th>contact</th>\n",
       "      <th>campaign</th>\n",
       "      <th>previous</th>\n",
       "    </tr>\n",
       "  </thead>\n",
       "  <tbody>\n",
       "    <tr>\n",
       "      <th>0</th>\n",
       "      <td>no</td>\n",
       "      <td>unknown</td>\n",
       "      <td>1</td>\n",
       "      <td>0</td>\n",
       "    </tr>\n",
       "    <tr>\n",
       "      <th>1</th>\n",
       "      <td>no</td>\n",
       "      <td>unknown</td>\n",
       "      <td>1</td>\n",
       "      <td>0</td>\n",
       "    </tr>\n",
       "    <tr>\n",
       "      <th>2</th>\n",
       "      <td>no</td>\n",
       "      <td>unknown</td>\n",
       "      <td>1</td>\n",
       "      <td>0</td>\n",
       "    </tr>\n",
       "    <tr>\n",
       "      <th>3</th>\n",
       "      <td>no</td>\n",
       "      <td>unknown</td>\n",
       "      <td>1</td>\n",
       "      <td>0</td>\n",
       "    </tr>\n",
       "    <tr>\n",
       "      <th>4</th>\n",
       "      <td>no</td>\n",
       "      <td>unknown</td>\n",
       "      <td>1</td>\n",
       "      <td>0</td>\n",
       "    </tr>\n",
       "  </tbody>\n",
       "</table>\n",
       "</div>"
      ],
      "text/plain": [
       "    y  contact  campaign  previous\n",
       "0  no  unknown         1         0\n",
       "1  no  unknown         1         0\n",
       "2  no  unknown         1         0\n",
       "3  no  unknown         1         0\n",
       "4  no  unknown         1         0"
      ]
     },
     "execution_count": 20,
     "metadata": {},
     "output_type": "execute_result"
    }
   ],
   "source": [
    "amostra2.head()"
   ]
  },
  {
   "cell_type": "code",
   "execution_count": 21,
   "metadata": {},
   "outputs": [
    {
     "name": "stdout",
     "output_type": "stream",
     "text": [
      "contact:  ['unknown' 'cellular' 'telephone']\n",
      "\n",
      "campaign:  [ 1  2  3  5  4  6  7  8  9 10 11 12 13 19 14 24 16 32 18 22 15 17 25 21\n",
      " 43 51 63 41 26 28 55 50 38 23 20 29 31 37 30 46 27 58 33 35 34 36 39 44]\n",
      "\n",
      "previous:  [  0   3   1   4   2  11  16   6   5  10  12   7  18   9  21   8  14  15\n",
      "  26  37  13  25  20  27  17  23  38  29  24  51 275  22  19  30  58  28\n",
      "  32  40  55  35  41]\n"
     ]
    }
   ],
   "source": [
    "print(\"contact: \", amostra2['contact'].unique())\n",
    "print()\n",
    "print(\"campaign: \", amostra2['campaign'].unique())\n",
    "print()\n",
    "print(\"previous: \", amostra2['previous'].unique())"
   ]
  },
  {
   "cell_type": "code",
   "execution_count": 22,
   "metadata": {},
   "outputs": [
    {
     "data": {
      "text/plain": [
       "<seaborn.axisgrid.PairGrid at 0x2895e6a85f8>"
      ]
     },
     "execution_count": 22,
     "metadata": {},
     "output_type": "execute_result"
    },
    {
     "data": {
      "image/png": "[encoded data removed]",
      "text/plain": [
       "<Figure size 413.25x360 with 6 Axes>"
      ]
     },
     "metadata": {
      "needs_background": "light"
     },
     "output_type": "display_data"
    }
   ],
   "source": [
    "sns.pairplot(amostra2, hue='y')"
   ]
  },
  {
   "cell_type": "code",
   "execution_count": 23,
   "metadata": {},
   "outputs": [
    {
     "data": {
      "text/plain": [
       "<matplotlib.axes._subplots.AxesSubplot at 0x2895ed6d828>"
      ]
     },
     "execution_count": 23,
     "metadata": {},
     "output_type": "execute_result"
    },
    {
     "data": {
      "image/png": "[encoded data removed]",
      "text/plain": [
       "<Figure size 432x288 with 1 Axes>"
      ]
     },
     "metadata": {
      "needs_background": "light"
     },
     "output_type": "display_data"
    }
   ],
   "source": [
    "sns.distplot(amostra2['campaign'], kde=False, color='blue', bins=100)"
   ]
  },
  {
   "cell_type": "code",
   "execution_count": 24,
   "metadata": {},
   "outputs": [],
   "source": [
    "amostra2_1 = pd.get_dummies(amostra2['y'])"
   ]
  },
  {
   "cell_type": "code",
   "execution_count": 25,
   "metadata": {},
   "outputs": [
    {
     "data": {
      "text/html": [
       "<div>\n",
       "<style scoped>\n",
       "    .dataframe tbody tr th:only-of-type {\n",
       "        vertical-align: middle;\n",
       "    }\n",
       "\n",
       "    .dataframe tbody tr th {\n",
       "        vertical-align: top;\n",
       "    }\n",
       "\n",
       "    .dataframe thead th {\n",
       "        text-align: right;\n",
       "    }\n",
       "</style>\n",
       "<table border=\"1\" class=\"dataframe\">\n",
       "  <thead>\n",
       "    <tr style=\"text-align: right;\">\n",
       "      <th></th>\n",
       "      <th>y</th>\n",
       "      <th>contact</th>\n",
       "      <th>campaign</th>\n",
       "      <th>previous</th>\n",
       "      <th>no</th>\n",
       "      <th>yes</th>\n",
       "    </tr>\n",
       "  </thead>\n",
       "  <tbody>\n",
       "    <tr>\n",
       "      <th>0</th>\n",
       "      <td>no</td>\n",
       "      <td>unknown</td>\n",
       "      <td>1</td>\n",
       "      <td>0</td>\n",
       "      <td>1</td>\n",
       "      <td>0</td>\n",
       "    </tr>\n",
       "    <tr>\n",
       "      <th>1</th>\n",
       "      <td>no</td>\n",
       "      <td>unknown</td>\n",
       "      <td>1</td>\n",
       "      <td>0</td>\n",
       "      <td>1</td>\n",
       "      <td>0</td>\n",
       "    </tr>\n",
       "    <tr>\n",
       "      <th>2</th>\n",
       "      <td>no</td>\n",
       "      <td>unknown</td>\n",
       "      <td>1</td>\n",
       "      <td>0</td>\n",
       "      <td>1</td>\n",
       "      <td>0</td>\n",
       "    </tr>\n",
       "    <tr>\n",
       "      <th>3</th>\n",
       "      <td>no</td>\n",
       "      <td>unknown</td>\n",
       "      <td>1</td>\n",
       "      <td>0</td>\n",
       "      <td>1</td>\n",
       "      <td>0</td>\n",
       "    </tr>\n",
       "    <tr>\n",
       "      <th>4</th>\n",
       "      <td>no</td>\n",
       "      <td>unknown</td>\n",
       "      <td>1</td>\n",
       "      <td>0</td>\n",
       "      <td>1</td>\n",
       "      <td>0</td>\n",
       "    </tr>\n",
       "  </tbody>\n",
       "</table>\n",
       "</div>"
      ],
      "text/plain": [
       "    y  contact  campaign  previous  no  yes\n",
       "0  no  unknown         1         0   1    0\n",
       "1  no  unknown         1         0   1    0\n",
       "2  no  unknown         1         0   1    0\n",
       "3  no  unknown         1         0   1    0\n",
       "4  no  unknown         1         0   1    0"
      ]
     },
     "execution_count": 25,
     "metadata": {},
     "output_type": "execute_result"
    }
   ],
   "source": [
    "amostra2_1 = pd.concat([amostra2,amostra2_1],axis=1)\n",
    "amostra2_1.head()"
   ]
  },
  {
   "cell_type": "code",
   "execution_count": 26,
   "metadata": {},
   "outputs": [
    {
     "data": {
      "text/html": [
       "<div>\n",
       "<style scoped>\n",
       "    .dataframe tbody tr th:only-of-type {\n",
       "        vertical-align: middle;\n",
       "    }\n",
       "\n",
       "    .dataframe tbody tr th {\n",
       "        vertical-align: top;\n",
       "    }\n",
       "\n",
       "    .dataframe thead th {\n",
       "        text-align: right;\n",
       "    }\n",
       "</style>\n",
       "<table border=\"1\" class=\"dataframe\">\n",
       "  <thead>\n",
       "    <tr style=\"text-align: right;\">\n",
       "      <th></th>\n",
       "      <th>campaign</th>\n",
       "      <th>previous</th>\n",
       "      <th>no</th>\n",
       "      <th>yes</th>\n",
       "    </tr>\n",
       "    <tr>\n",
       "      <th>y</th>\n",
       "      <th></th>\n",
       "      <th></th>\n",
       "      <th></th>\n",
       "      <th></th>\n",
       "    </tr>\n",
       "  </thead>\n",
       "  <tbody>\n",
       "    <tr>\n",
       "      <th>no</th>\n",
       "      <td>113632</td>\n",
       "      <td>20047</td>\n",
       "      <td>39922.0</td>\n",
       "      <td>0.0</td>\n",
       "    </tr>\n",
       "    <tr>\n",
       "      <th>yes</th>\n",
       "      <td>11324</td>\n",
       "      <td>6190</td>\n",
       "      <td>0.0</td>\n",
       "      <td>5289.0</td>\n",
       "    </tr>\n",
       "  </tbody>\n",
       "</table>\n",
       "</div>"
      ],
      "text/plain": [
       "     campaign  previous       no     yes\n",
       "y                                       \n",
       "no     113632     20047  39922.0     0.0\n",
       "yes     11324      6190      0.0  5289.0"
      ]
     },
     "execution_count": 26,
     "metadata": {},
     "output_type": "execute_result"
    }
   ],
   "source": [
    "amostra2_1.groupby('y').sum()"
   ]
  },
  {
   "cell_type": "code",
   "execution_count": 27,
   "metadata": {},
   "outputs": [
    {
     "data": {
      "text/html": [
       "<div>\n",
       "<style scoped>\n",
       "    .dataframe tbody tr th:only-of-type {\n",
       "        vertical-align: middle;\n",
       "    }\n",
       "\n",
       "    .dataframe tbody tr th {\n",
       "        vertical-align: top;\n",
       "    }\n",
       "\n",
       "    .dataframe thead th {\n",
       "        text-align: right;\n",
       "    }\n",
       "</style>\n",
       "<table border=\"1\" class=\"dataframe\">\n",
       "  <thead>\n",
       "    <tr style=\"text-align: right;\">\n",
       "      <th></th>\n",
       "      <th>y</th>\n",
       "      <th>contact</th>\n",
       "      <th>campaign</th>\n",
       "      <th>previous</th>\n",
       "    </tr>\n",
       "  </thead>\n",
       "  <tbody>\n",
       "    <tr>\n",
       "      <th>0</th>\n",
       "      <td>no</td>\n",
       "      <td>unknown</td>\n",
       "      <td>1</td>\n",
       "      <td>0</td>\n",
       "    </tr>\n",
       "    <tr>\n",
       "      <th>1</th>\n",
       "      <td>no</td>\n",
       "      <td>unknown</td>\n",
       "      <td>1</td>\n",
       "      <td>0</td>\n",
       "    </tr>\n",
       "    <tr>\n",
       "      <th>2</th>\n",
       "      <td>no</td>\n",
       "      <td>unknown</td>\n",
       "      <td>1</td>\n",
       "      <td>0</td>\n",
       "    </tr>\n",
       "    <tr>\n",
       "      <th>3</th>\n",
       "      <td>no</td>\n",
       "      <td>unknown</td>\n",
       "      <td>1</td>\n",
       "      <td>0</td>\n",
       "    </tr>\n",
       "    <tr>\n",
       "      <th>4</th>\n",
       "      <td>no</td>\n",
       "      <td>unknown</td>\n",
       "      <td>1</td>\n",
       "      <td>0</td>\n",
       "    </tr>\n",
       "  </tbody>\n",
       "</table>\n",
       "</div>"
      ],
      "text/plain": [
       "    y  contact  campaign  previous\n",
       "0  no  unknown         1         0\n",
       "1  no  unknown         1         0\n",
       "2  no  unknown         1         0\n",
       "3  no  unknown         1         0\n",
       "4  no  unknown         1         0"
      ]
     },
     "execution_count": 27,
     "metadata": {},
     "output_type": "execute_result"
    }
   ],
   "source": [
    "amostra2.head()"
   ]
  },
  {
   "cell_type": "markdown",
   "metadata": {},
   "source": [
    "Verificando se existe correlação linear (Pearson)"
   ]
  },
  {
   "cell_type": "code",
   "execution_count": 28,
   "metadata": {},
   "outputs": [
    {
     "data": {
      "text/html": [
       "<div>\n",
       "<style scoped>\n",
       "    .dataframe tbody tr th:only-of-type {\n",
       "        vertical-align: middle;\n",
       "    }\n",
       "\n",
       "    .dataframe tbody tr th {\n",
       "        vertical-align: top;\n",
       "    }\n",
       "\n",
       "    .dataframe thead th {\n",
       "        text-align: right;\n",
       "    }\n",
       "</style>\n",
       "<table border=\"1\" class=\"dataframe\">\n",
       "  <thead>\n",
       "    <tr style=\"text-align: right;\">\n",
       "      <th></th>\n",
       "      <th>campaign</th>\n",
       "      <th>previous</th>\n",
       "      <th>no</th>\n",
       "      <th>yes</th>\n",
       "    </tr>\n",
       "  </thead>\n",
       "  <tbody>\n",
       "    <tr>\n",
       "      <th>campaign</th>\n",
       "      <td>1.000000</td>\n",
       "      <td>-0.032855</td>\n",
       "      <td>0.073172</td>\n",
       "      <td>-0.073172</td>\n",
       "    </tr>\n",
       "    <tr>\n",
       "      <th>previous</th>\n",
       "      <td>-0.032855</td>\n",
       "      <td>1.000000</td>\n",
       "      <td>-0.093236</td>\n",
       "      <td>0.093236</td>\n",
       "    </tr>\n",
       "    <tr>\n",
       "      <th>no</th>\n",
       "      <td>0.073172</td>\n",
       "      <td>-0.093236</td>\n",
       "      <td>1.000000</td>\n",
       "      <td>-1.000000</td>\n",
       "    </tr>\n",
       "    <tr>\n",
       "      <th>yes</th>\n",
       "      <td>-0.073172</td>\n",
       "      <td>0.093236</td>\n",
       "      <td>-1.000000</td>\n",
       "      <td>1.000000</td>\n",
       "    </tr>\n",
       "  </tbody>\n",
       "</table>\n",
       "</div>"
      ],
      "text/plain": [
       "          campaign  previous        no       yes\n",
       "campaign  1.000000 -0.032855  0.073172 -0.073172\n",
       "previous -0.032855  1.000000 -0.093236  0.093236\n",
       "no        0.073172 -0.093236  1.000000 -1.000000\n",
       "yes      -0.073172  0.093236 -1.000000  1.000000"
      ]
     },
     "execution_count": 28,
     "metadata": {},
     "output_type": "execute_result"
    }
   ],
   "source": [
    "# utilizando correlação linear (Pearson)\n",
    "amostra2_1.corr()"
   ]
  },
  {
   "cell_type": "code",
   "execution_count": 29,
   "metadata": {},
   "outputs": [
    {
     "data": {
      "text/html": [
       "<style  type=\"text/css\" >\n",
       "    #T_2cc7bc36_7393_11ea_b748_b88584fbfaecrow0_col0 {\n",
       "            background-color:  #fde725;\n",
       "            color:  #000000;\n",
       "        }    #T_2cc7bc36_7393_11ea_b748_b88584fbfaecrow0_col1 {\n",
       "            background-color:  #470e61;\n",
       "            color:  #f1f1f1;\n",
       "        }    #T_2cc7bc36_7393_11ea_b748_b88584fbfaecrow0_col2 {\n",
       "            background-color:  #472f7d;\n",
       "            color:  #f1f1f1;\n",
       "        }    #T_2cc7bc36_7393_11ea_b748_b88584fbfaecrow0_col3 {\n",
       "            background-color:  #440154;\n",
       "            color:  #f1f1f1;\n",
       "        }    #T_2cc7bc36_7393_11ea_b748_b88584fbfaecrow1_col0 {\n",
       "            background-color:  #481668;\n",
       "            color:  #f1f1f1;\n",
       "        }    #T_2cc7bc36_7393_11ea_b748_b88584fbfaecrow1_col1 {\n",
       "            background-color:  #fde725;\n",
       "            color:  #000000;\n",
       "        }    #T_2cc7bc36_7393_11ea_b748_b88584fbfaecrow1_col2 {\n",
       "            background-color:  #440154;\n",
       "            color:  #f1f1f1;\n",
       "        }    #T_2cc7bc36_7393_11ea_b748_b88584fbfaecrow1_col3 {\n",
       "            background-color:  #443a83;\n",
       "            color:  #f1f1f1;\n",
       "        }    #T_2cc7bc36_7393_11ea_b748_b88584fbfaecrow2_col0 {\n",
       "            background-color:  #1f998a;\n",
       "            color:  #000000;\n",
       "        }    #T_2cc7bc36_7393_11ea_b748_b88584fbfaecrow2_col1 {\n",
       "            background-color:  #25858e;\n",
       "            color:  #000000;\n",
       "        }    #T_2cc7bc36_7393_11ea_b748_b88584fbfaecrow2_col2 {\n",
       "            background-color:  #fde725;\n",
       "            color:  #000000;\n",
       "        }    #T_2cc7bc36_7393_11ea_b748_b88584fbfaecrow2_col3 {\n",
       "            background-color:  #440154;\n",
       "            color:  #f1f1f1;\n",
       "        }    #T_2cc7bc36_7393_11ea_b748_b88584fbfaecrow3_col0 {\n",
       "            background-color:  #24878e;\n",
       "            color:  #000000;\n",
       "        }    #T_2cc7bc36_7393_11ea_b748_b88584fbfaecrow3_col1 {\n",
       "            background-color:  #1e9b8a;\n",
       "            color:  #000000;\n",
       "        }    #T_2cc7bc36_7393_11ea_b748_b88584fbfaecrow3_col2 {\n",
       "            background-color:  #440154;\n",
       "            color:  #f1f1f1;\n",
       "        }    #T_2cc7bc36_7393_11ea_b748_b88584fbfaecrow3_col3 {\n",
       "            background-color:  #fde725;\n",
       "            color:  #000000;\n",
       "        }</style><table id=\"T_2cc7bc36_7393_11ea_b748_b88584fbfaec\" ><thead>    <tr>        <th class=\"blank level0\" ></th>        <th class=\"col_heading level0 col0\" >campaign</th>        <th class=\"col_heading level0 col1\" >previous</th>        <th class=\"col_heading level0 col2\" >no</th>        <th class=\"col_heading level0 col3\" >yes</th>    </tr></thead><tbody>\n",
       "                <tr>\n",
       "                        <th id=\"T_2cc7bc36_7393_11ea_b748_b88584fbfaeclevel0_row0\" class=\"row_heading level0 row0\" >campaign</th>\n",
       "                        <td id=\"T_2cc7bc36_7393_11ea_b748_b88584fbfaecrow0_col0\" class=\"data row0 col0\" >1.0</td>\n",
       "                        <td id=\"T_2cc7bc36_7393_11ea_b748_b88584fbfaecrow0_col1\" class=\"data row0 col1\" >-0.033</td>\n",
       "                        <td id=\"T_2cc7bc36_7393_11ea_b748_b88584fbfaecrow0_col2\" class=\"data row0 col2\" >0.073</td>\n",
       "                        <td id=\"T_2cc7bc36_7393_11ea_b748_b88584fbfaecrow0_col3\" class=\"data row0 col3\" >-0.073</td>\n",
       "            </tr>\n",
       "            <tr>\n",
       "                        <th id=\"T_2cc7bc36_7393_11ea_b748_b88584fbfaeclevel0_row1\" class=\"row_heading level0 row1\" >previous</th>\n",
       "                        <td id=\"T_2cc7bc36_7393_11ea_b748_b88584fbfaecrow1_col0\" class=\"data row1 col0\" >-0.033</td>\n",
       "                        <td id=\"T_2cc7bc36_7393_11ea_b748_b88584fbfaecrow1_col1\" class=\"data row1 col1\" >1.0</td>\n",
       "                        <td id=\"T_2cc7bc36_7393_11ea_b748_b88584fbfaecrow1_col2\" class=\"data row1 col2\" >-0.093</td>\n",
       "                        <td id=\"T_2cc7bc36_7393_11ea_b748_b88584fbfaecrow1_col3\" class=\"data row1 col3\" >0.093</td>\n",
       "            </tr>\n",
       "            <tr>\n",
       "                        <th id=\"T_2cc7bc36_7393_11ea_b748_b88584fbfaeclevel0_row2\" class=\"row_heading level0 row2\" >no</th>\n",
       "                        <td id=\"T_2cc7bc36_7393_11ea_b748_b88584fbfaecrow2_col0\" class=\"data row2 col0\" >0.073</td>\n",
       "                        <td id=\"T_2cc7bc36_7393_11ea_b748_b88584fbfaecrow2_col1\" class=\"data row2 col1\" >-0.093</td>\n",
       "                        <td id=\"T_2cc7bc36_7393_11ea_b748_b88584fbfaecrow2_col2\" class=\"data row2 col2\" >1.0</td>\n",
       "                        <td id=\"T_2cc7bc36_7393_11ea_b748_b88584fbfaecrow2_col3\" class=\"data row2 col3\" >-1.0</td>\n",
       "            </tr>\n",
       "            <tr>\n",
       "                        <th id=\"T_2cc7bc36_7393_11ea_b748_b88584fbfaeclevel0_row3\" class=\"row_heading level0 row3\" >yes</th>\n",
       "                        <td id=\"T_2cc7bc36_7393_11ea_b748_b88584fbfaecrow3_col0\" class=\"data row3 col0\" >-0.073</td>\n",
       "                        <td id=\"T_2cc7bc36_7393_11ea_b748_b88584fbfaecrow3_col1\" class=\"data row3 col1\" >0.093</td>\n",
       "                        <td id=\"T_2cc7bc36_7393_11ea_b748_b88584fbfaecrow3_col2\" class=\"data row3 col2\" >-1.0</td>\n",
       "                        <td id=\"T_2cc7bc36_7393_11ea_b748_b88584fbfaecrow3_col3\" class=\"data row3 col3\" >1.0</td>\n",
       "            </tr>\n",
       "    </tbody></table>"
      ],
      "text/plain": [
       "<pandas.io.formats.style.Styler at 0x2895e2a24a8>"
      ]
     },
     "execution_count": 29,
     "metadata": {},
     "output_type": "execute_result"
    }
   ],
   "source": [
    "# utilizando correlação linear (Pearson)\n",
    "amostra2_1.corr().style.format(\"{:.2}\").background_gradient(cmap=plt.get_cmap('viridis'), axis=1)"
   ]
  },
  {
   "cell_type": "markdown",
   "metadata": {},
   "source": [
    "</br>\n",
    "Verificando se existe correlação não-linear (Spearman)"
   ]
  },
  {
   "cell_type": "code",
   "execution_count": 30,
   "metadata": {},
   "outputs": [
    {
     "data": {
      "text/html": [
       "<div>\n",
       "<style scoped>\n",
       "    .dataframe tbody tr th:only-of-type {\n",
       "        vertical-align: middle;\n",
       "    }\n",
       "\n",
       "    .dataframe tbody tr th {\n",
       "        vertical-align: top;\n",
       "    }\n",
       "\n",
       "    .dataframe thead th {\n",
       "        text-align: right;\n",
       "    }\n",
       "</style>\n",
       "<table border=\"1\" class=\"dataframe\">\n",
       "  <thead>\n",
       "    <tr style=\"text-align: right;\">\n",
       "      <th></th>\n",
       "      <th>campaign</th>\n",
       "      <th>previous</th>\n",
       "      <th>no</th>\n",
       "      <th>yes</th>\n",
       "    </tr>\n",
       "  </thead>\n",
       "  <tbody>\n",
       "    <tr>\n",
       "      <th>campaign</th>\n",
       "      <td>1.000000</td>\n",
       "      <td>-0.108448</td>\n",
       "      <td>0.084054</td>\n",
       "      <td>-0.084054</td>\n",
       "    </tr>\n",
       "    <tr>\n",
       "      <th>previous</th>\n",
       "      <td>-0.108448</td>\n",
       "      <td>1.000000</td>\n",
       "      <td>-0.169124</td>\n",
       "      <td>0.169124</td>\n",
       "    </tr>\n",
       "    <tr>\n",
       "      <th>no</th>\n",
       "      <td>0.084054</td>\n",
       "      <td>-0.169124</td>\n",
       "      <td>1.000000</td>\n",
       "      <td>-1.000000</td>\n",
       "    </tr>\n",
       "    <tr>\n",
       "      <th>yes</th>\n",
       "      <td>-0.084054</td>\n",
       "      <td>0.169124</td>\n",
       "      <td>-1.000000</td>\n",
       "      <td>1.000000</td>\n",
       "    </tr>\n",
       "  </tbody>\n",
       "</table>\n",
       "</div>"
      ],
      "text/plain": [
       "          campaign  previous        no       yes\n",
       "campaign  1.000000 -0.108448  0.084054 -0.084054\n",
       "previous -0.108448  1.000000 -0.169124  0.169124\n",
       "no        0.084054 -0.169124  1.000000 -1.000000\n",
       "yes      -0.084054  0.169124 -1.000000  1.000000"
      ]
     },
     "execution_count": 30,
     "metadata": {},
     "output_type": "execute_result"
    }
   ],
   "source": [
    "# utilizando correlação não-linear (Spearman)\n",
    "amostra2_1.corr(method='spearman')"
   ]
  },
  {
   "cell_type": "code",
   "execution_count": 31,
   "metadata": {},
   "outputs": [
    {
     "data": {
      "text/html": [
       "<style  type=\"text/css\" >\n",
       "    #T_2f614440_7393_11ea_a17c_b88584fbfaecrow0_col0 {\n",
       "            background-color:  #fee838;\n",
       "            color:  #000000;\n",
       "        }    #T_2f614440_7393_11ea_a17c_b88584fbfaecrow0_col1 {\n",
       "            background-color:  #00224e;\n",
       "            color:  #f1f1f1;\n",
       "        }    #T_2f614440_7393_11ea_a17c_b88584fbfaecrow0_col2 {\n",
       "            background-color:  #2d416d;\n",
       "            color:  #f1f1f1;\n",
       "        }    #T_2f614440_7393_11ea_a17c_b88584fbfaecrow0_col3 {\n",
       "            background-color:  #002656;\n",
       "            color:  #f1f1f1;\n",
       "        }    #T_2f614440_7393_11ea_a17c_b88584fbfaecrow1_col0 {\n",
       "            background-color:  #002c64;\n",
       "            color:  #f1f1f1;\n",
       "        }    #T_2f614440_7393_11ea_a17c_b88584fbfaecrow1_col1 {\n",
       "            background-color:  #fee838;\n",
       "            color:  #000000;\n",
       "        }    #T_2f614440_7393_11ea_a17c_b88584fbfaecrow1_col2 {\n",
       "            background-color:  #00224e;\n",
       "            color:  #f1f1f1;\n",
       "        }    #T_2f614440_7393_11ea_a17c_b88584fbfaecrow1_col3 {\n",
       "            background-color:  #4d556c;\n",
       "            color:  #f1f1f1;\n",
       "        }    #T_2f614440_7393_11ea_a17c_b88584fbfaecrow2_col0 {\n",
       "            background-color:  #868379;\n",
       "            color:  #000000;\n",
       "        }    #T_2f614440_7393_11ea_a17c_b88584fbfaecrow2_col1 {\n",
       "            background-color:  #6a6c71;\n",
       "            color:  #000000;\n",
       "        }    #T_2f614440_7393_11ea_a17c_b88584fbfaecrow2_col2 {\n",
       "            background-color:  #fee838;\n",
       "            color:  #000000;\n",
       "        }    #T_2f614440_7393_11ea_a17c_b88584fbfaecrow2_col3 {\n",
       "            background-color:  #00224e;\n",
       "            color:  #f1f1f1;\n",
       "        }    #T_2f614440_7393_11ea_a17c_b88584fbfaecrow3_col0 {\n",
       "            background-color:  #737475;\n",
       "            color:  #000000;\n",
       "        }    #T_2f614440_7393_11ea_a17c_b88584fbfaecrow3_col1 {\n",
       "            background-color:  #918b78;\n",
       "            color:  #000000;\n",
       "        }    #T_2f614440_7393_11ea_a17c_b88584fbfaecrow3_col2 {\n",
       "            background-color:  #00224e;\n",
       "            color:  #f1f1f1;\n",
       "        }    #T_2f614440_7393_11ea_a17c_b88584fbfaecrow3_col3 {\n",
       "            background-color:  #fee838;\n",
       "            color:  #000000;\n",
       "        }</style><table id=\"T_2f614440_7393_11ea_a17c_b88584fbfaec\" ><thead>    <tr>        <th class=\"blank level0\" ></th>        <th class=\"col_heading level0 col0\" >campaign</th>        <th class=\"col_heading level0 col1\" >previous</th>        <th class=\"col_heading level0 col2\" >no</th>        <th class=\"col_heading level0 col3\" >yes</th>    </tr></thead><tbody>\n",
       "                <tr>\n",
       "                        <th id=\"T_2f614440_7393_11ea_a17c_b88584fbfaeclevel0_row0\" class=\"row_heading level0 row0\" >campaign</th>\n",
       "                        <td id=\"T_2f614440_7393_11ea_a17c_b88584fbfaecrow0_col0\" class=\"data row0 col0\" >1.0</td>\n",
       "                        <td id=\"T_2f614440_7393_11ea_a17c_b88584fbfaecrow0_col1\" class=\"data row0 col1\" >-0.11</td>\n",
       "                        <td id=\"T_2f614440_7393_11ea_a17c_b88584fbfaecrow0_col2\" class=\"data row0 col2\" >0.084</td>\n",
       "                        <td id=\"T_2f614440_7393_11ea_a17c_b88584fbfaecrow0_col3\" class=\"data row0 col3\" >-0.084</td>\n",
       "            </tr>\n",
       "            <tr>\n",
       "                        <th id=\"T_2f614440_7393_11ea_a17c_b88584fbfaeclevel0_row1\" class=\"row_heading level0 row1\" >previous</th>\n",
       "                        <td id=\"T_2f614440_7393_11ea_a17c_b88584fbfaecrow1_col0\" class=\"data row1 col0\" >-0.11</td>\n",
       "                        <td id=\"T_2f614440_7393_11ea_a17c_b88584fbfaecrow1_col1\" class=\"data row1 col1\" >1.0</td>\n",
       "                        <td id=\"T_2f614440_7393_11ea_a17c_b88584fbfaecrow1_col2\" class=\"data row1 col2\" >-0.17</td>\n",
       "                        <td id=\"T_2f614440_7393_11ea_a17c_b88584fbfaecrow1_col3\" class=\"data row1 col3\" >0.17</td>\n",
       "            </tr>\n",
       "            <tr>\n",
       "                        <th id=\"T_2f614440_7393_11ea_a17c_b88584fbfaeclevel0_row2\" class=\"row_heading level0 row2\" >no</th>\n",
       "                        <td id=\"T_2f614440_7393_11ea_a17c_b88584fbfaecrow2_col0\" class=\"data row2 col0\" >0.084</td>\n",
       "                        <td id=\"T_2f614440_7393_11ea_a17c_b88584fbfaecrow2_col1\" class=\"data row2 col1\" >-0.17</td>\n",
       "                        <td id=\"T_2f614440_7393_11ea_a17c_b88584fbfaecrow2_col2\" class=\"data row2 col2\" >1.0</td>\n",
       "                        <td id=\"T_2f614440_7393_11ea_a17c_b88584fbfaecrow2_col3\" class=\"data row2 col3\" >-1.0</td>\n",
       "            </tr>\n",
       "            <tr>\n",
       "                        <th id=\"T_2f614440_7393_11ea_a17c_b88584fbfaeclevel0_row3\" class=\"row_heading level0 row3\" >yes</th>\n",
       "                        <td id=\"T_2f614440_7393_11ea_a17c_b88584fbfaecrow3_col0\" class=\"data row3 col0\" >-0.084</td>\n",
       "                        <td id=\"T_2f614440_7393_11ea_a17c_b88584fbfaecrow3_col1\" class=\"data row3 col1\" >0.17</td>\n",
       "                        <td id=\"T_2f614440_7393_11ea_a17c_b88584fbfaecrow3_col2\" class=\"data row3 col2\" >-1.0</td>\n",
       "                        <td id=\"T_2f614440_7393_11ea_a17c_b88584fbfaecrow3_col3\" class=\"data row3 col3\" >1.0</td>\n",
       "            </tr>\n",
       "    </tbody></table>"
      ],
      "text/plain": [
       "<pandas.io.formats.style.Styler at 0x28961291780>"
      ]
     },
     "execution_count": 31,
     "metadata": {},
     "output_type": "execute_result"
    }
   ],
   "source": [
    "# utilizando correlação não-linear (Spearman)\n",
    "amostra2_1.corr(method='spearman').style.format(\"{:.2}\").background_gradient(cmap=plt.get_cmap('cividis'), axis=1)"
   ]
  },
  {
   "cell_type": "markdown",
   "metadata": {},
   "source": [
    "A correlação entre a quantidade de contatos e o sucesso (ou não) da campanha é bastante fraco quando analisados isoladamente."
   ]
  },
  {
   "cell_type": "code",
   "execution_count": null,
   "metadata": {},
   "outputs": [],
   "source": []
  },
  {
   "cell_type": "markdown",
   "metadata": {},
   "source": [
    "### 3-Baseando-se nos resultados de adesão desta campanha qual o número médio e o máximo de ligações que você indica para otimizar a adesão?\n",
    "\n",
    "#### Resposta: Foram 2,14 contatos em média e, conforme a distribuição do histograma, recomendaria, no máximo, 6 contatos por cliente."
   ]
  },
  {
   "cell_type": "code",
   "execution_count": 32,
   "metadata": {},
   "outputs": [],
   "source": [
    "amostra3 = amostra"
   ]
  },
  {
   "cell_type": "code",
   "execution_count": 33,
   "metadata": {},
   "outputs": [
    {
     "data": {
      "text/html": [
       "<div>\n",
       "<style scoped>\n",
       "    .dataframe tbody tr th:only-of-type {\n",
       "        vertical-align: middle;\n",
       "    }\n",
       "\n",
       "    .dataframe tbody tr th {\n",
       "        vertical-align: top;\n",
       "    }\n",
       "\n",
       "    .dataframe thead th {\n",
       "        text-align: right;\n",
       "    }\n",
       "</style>\n",
       "<table border=\"1\" class=\"dataframe\">\n",
       "  <thead>\n",
       "    <tr style=\"text-align: right;\">\n",
       "      <th></th>\n",
       "      <th>age</th>\n",
       "      <th>job</th>\n",
       "      <th>marital</th>\n",
       "      <th>education</th>\n",
       "      <th>default</th>\n",
       "      <th>balance</th>\n",
       "      <th>housing</th>\n",
       "      <th>loan</th>\n",
       "      <th>contact</th>\n",
       "      <th>day</th>\n",
       "      <th>month</th>\n",
       "      <th>duration</th>\n",
       "      <th>campaign</th>\n",
       "      <th>pdays</th>\n",
       "      <th>previous</th>\n",
       "      <th>poutcome</th>\n",
       "      <th>y</th>\n",
       "    </tr>\n",
       "  </thead>\n",
       "  <tbody>\n",
       "    <tr>\n",
       "      <th>83</th>\n",
       "      <td>59</td>\n",
       "      <td>admin.</td>\n",
       "      <td>married</td>\n",
       "      <td>secondary</td>\n",
       "      <td>no</td>\n",
       "      <td>2343</td>\n",
       "      <td>yes</td>\n",
       "      <td>no</td>\n",
       "      <td>unknown</td>\n",
       "      <td>5</td>\n",
       "      <td>may</td>\n",
       "      <td>1042</td>\n",
       "      <td>1</td>\n",
       "      <td>-1</td>\n",
       "      <td>0</td>\n",
       "      <td>unknown</td>\n",
       "      <td>yes</td>\n",
       "    </tr>\n",
       "    <tr>\n",
       "      <th>86</th>\n",
       "      <td>56</td>\n",
       "      <td>admin.</td>\n",
       "      <td>married</td>\n",
       "      <td>secondary</td>\n",
       "      <td>no</td>\n",
       "      <td>45</td>\n",
       "      <td>no</td>\n",
       "      <td>no</td>\n",
       "      <td>unknown</td>\n",
       "      <td>5</td>\n",
       "      <td>may</td>\n",
       "      <td>1467</td>\n",
       "      <td>1</td>\n",
       "      <td>-1</td>\n",
       "      <td>0</td>\n",
       "      <td>unknown</td>\n",
       "      <td>yes</td>\n",
       "    </tr>\n",
       "    <tr>\n",
       "      <th>87</th>\n",
       "      <td>41</td>\n",
       "      <td>technician</td>\n",
       "      <td>married</td>\n",
       "      <td>secondary</td>\n",
       "      <td>no</td>\n",
       "      <td>1270</td>\n",
       "      <td>yes</td>\n",
       "      <td>no</td>\n",
       "      <td>unknown</td>\n",
       "      <td>5</td>\n",
       "      <td>may</td>\n",
       "      <td>1389</td>\n",
       "      <td>1</td>\n",
       "      <td>-1</td>\n",
       "      <td>0</td>\n",
       "      <td>unknown</td>\n",
       "      <td>yes</td>\n",
       "    </tr>\n",
       "    <tr>\n",
       "      <th>129</th>\n",
       "      <td>55</td>\n",
       "      <td>services</td>\n",
       "      <td>married</td>\n",
       "      <td>secondary</td>\n",
       "      <td>no</td>\n",
       "      <td>2476</td>\n",
       "      <td>yes</td>\n",
       "      <td>no</td>\n",
       "      <td>unknown</td>\n",
       "      <td>5</td>\n",
       "      <td>may</td>\n",
       "      <td>579</td>\n",
       "      <td>1</td>\n",
       "      <td>-1</td>\n",
       "      <td>0</td>\n",
       "      <td>unknown</td>\n",
       "      <td>yes</td>\n",
       "    </tr>\n",
       "    <tr>\n",
       "      <th>168</th>\n",
       "      <td>54</td>\n",
       "      <td>admin.</td>\n",
       "      <td>married</td>\n",
       "      <td>tertiary</td>\n",
       "      <td>no</td>\n",
       "      <td>184</td>\n",
       "      <td>no</td>\n",
       "      <td>no</td>\n",
       "      <td>unknown</td>\n",
       "      <td>5</td>\n",
       "      <td>may</td>\n",
       "      <td>673</td>\n",
       "      <td>2</td>\n",
       "      <td>-1</td>\n",
       "      <td>0</td>\n",
       "      <td>unknown</td>\n",
       "      <td>yes</td>\n",
       "    </tr>\n",
       "  </tbody>\n",
       "</table>\n",
       "</div>"
      ],
      "text/plain": [
       "     age         job  marital  education default  balance housing loan  \\\n",
       "83    59      admin.  married  secondary      no     2343     yes   no   \n",
       "86    56      admin.  married  secondary      no       45      no   no   \n",
       "87    41  technician  married  secondary      no     1270     yes   no   \n",
       "129   55    services  married  secondary      no     2476     yes   no   \n",
       "168   54      admin.  married   tertiary      no      184      no   no   \n",
       "\n",
       "     contact  day month  duration  campaign  pdays  previous poutcome    y  \n",
       "83   unknown    5   may      1042         1     -1         0  unknown  yes  \n",
       "86   unknown    5   may      1467         1     -1         0  unknown  yes  \n",
       "87   unknown    5   may      1389         1     -1         0  unknown  yes  \n",
       "129  unknown    5   may       579         1     -1         0  unknown  yes  \n",
       "168  unknown    5   may       673         2     -1         0  unknown  yes  "
      ]
     },
     "execution_count": 33,
     "metadata": {},
     "output_type": "execute_result"
    }
   ],
   "source": [
    "amostra3_1 = amostra3[amostra3['y']=='yes']\n",
    "amostra3_1.head()"
   ]
  },
  {
   "cell_type": "code",
   "execution_count": 34,
   "metadata": {},
   "outputs": [
    {
     "name": "stdout",
     "output_type": "stream",
     "text": [
      "\n",
      "\n",
      "O número médio de contatos nessa campanha:  2.1410474569861977\n",
      "\n"
     ]
    }
   ],
   "source": [
    "print()\n",
    "print('\\nO número médio de contatos nessa campanha: ', amostra3_1['campaign'].mean())\n",
    "print()"
   ]
  },
  {
   "cell_type": "code",
   "execution_count": 35,
   "metadata": {},
   "outputs": [
    {
     "data": {
      "text/plain": [
       "<matplotlib.axes._subplots.AxesSubplot at 0x28961259f98>"
      ]
     },
     "execution_count": 35,
     "metadata": {},
     "output_type": "execute_result"
    },
    {
     "data": {
      "image/png": "[encoded data removed]",
      "text/plain": [
       "<Figure size 432x288 with 1 Axes>"
      ]
     },
     "metadata": {
      "needs_background": "light"
     },
     "output_type": "display_data"
    }
   ],
   "source": [
    "sns.distplot(amostra3_1['campaign'], kde=False, color='green', bins=100)"
   ]
  },
  {
   "cell_type": "code",
   "execution_count": null,
   "metadata": {},
   "outputs": [],
   "source": []
  },
  {
   "cell_type": "markdown",
   "metadata": {},
   "source": [
    "### 4-O resultado da campanha anterior tem relevância na campanha atual?\n",
    "#### Resposta: A covariância mostra que existe uma pequena relação linear entre os sucessos obtidos na campanha anterior e na atual. A relevância é fraca (0,31) entre as variáveis, porém não é desprezível.</br>\n"
   ]
  },
  {
   "cell_type": "code",
   "execution_count": 36,
   "metadata": {},
   "outputs": [
    {
     "name": "stdout",
     "output_type": "stream",
     "text": [
      "(45211, 17)\n"
     ]
    },
    {
     "data": {
      "text/html": [
       "<div>\n",
       "<style scoped>\n",
       "    .dataframe tbody tr th:only-of-type {\n",
       "        vertical-align: middle;\n",
       "    }\n",
       "\n",
       "    .dataframe tbody tr th {\n",
       "        vertical-align: top;\n",
       "    }\n",
       "\n",
       "    .dataframe thead th {\n",
       "        text-align: right;\n",
       "    }\n",
       "</style>\n",
       "<table border=\"1\" class=\"dataframe\">\n",
       "  <thead>\n",
       "    <tr style=\"text-align: right;\">\n",
       "      <th></th>\n",
       "      <th>age</th>\n",
       "      <th>job</th>\n",
       "      <th>marital</th>\n",
       "      <th>education</th>\n",
       "      <th>default</th>\n",
       "      <th>balance</th>\n",
       "      <th>housing</th>\n",
       "      <th>loan</th>\n",
       "      <th>contact</th>\n",
       "      <th>day</th>\n",
       "      <th>month</th>\n",
       "      <th>duration</th>\n",
       "      <th>campaign</th>\n",
       "      <th>pdays</th>\n",
       "      <th>previous</th>\n",
       "      <th>poutcome</th>\n",
       "      <th>y</th>\n",
       "    </tr>\n",
       "  </thead>\n",
       "  <tbody>\n",
       "    <tr>\n",
       "      <th>0</th>\n",
       "      <td>58</td>\n",
       "      <td>management</td>\n",
       "      <td>married</td>\n",
       "      <td>tertiary</td>\n",
       "      <td>no</td>\n",
       "      <td>2143</td>\n",
       "      <td>yes</td>\n",
       "      <td>no</td>\n",
       "      <td>unknown</td>\n",
       "      <td>5</td>\n",
       "      <td>may</td>\n",
       "      <td>261</td>\n",
       "      <td>1</td>\n",
       "      <td>-1</td>\n",
       "      <td>0</td>\n",
       "      <td>unknown</td>\n",
       "      <td>no</td>\n",
       "    </tr>\n",
       "    <tr>\n",
       "      <th>1</th>\n",
       "      <td>44</td>\n",
       "      <td>technician</td>\n",
       "      <td>single</td>\n",
       "      <td>secondary</td>\n",
       "      <td>no</td>\n",
       "      <td>29</td>\n",
       "      <td>yes</td>\n",
       "      <td>no</td>\n",
       "      <td>unknown</td>\n",
       "      <td>5</td>\n",
       "      <td>may</td>\n",
       "      <td>151</td>\n",
       "      <td>1</td>\n",
       "      <td>-1</td>\n",
       "      <td>0</td>\n",
       "      <td>unknown</td>\n",
       "      <td>no</td>\n",
       "    </tr>\n",
       "    <tr>\n",
       "      <th>2</th>\n",
       "      <td>33</td>\n",
       "      <td>entrepreneur</td>\n",
       "      <td>married</td>\n",
       "      <td>secondary</td>\n",
       "      <td>no</td>\n",
       "      <td>2</td>\n",
       "      <td>yes</td>\n",
       "      <td>yes</td>\n",
       "      <td>unknown</td>\n",
       "      <td>5</td>\n",
       "      <td>may</td>\n",
       "      <td>76</td>\n",
       "      <td>1</td>\n",
       "      <td>-1</td>\n",
       "      <td>0</td>\n",
       "      <td>unknown</td>\n",
       "      <td>no</td>\n",
       "    </tr>\n",
       "    <tr>\n",
       "      <th>3</th>\n",
       "      <td>47</td>\n",
       "      <td>blue-collar</td>\n",
       "      <td>married</td>\n",
       "      <td>unknown</td>\n",
       "      <td>no</td>\n",
       "      <td>1506</td>\n",
       "      <td>yes</td>\n",
       "      <td>no</td>\n",
       "      <td>unknown</td>\n",
       "      <td>5</td>\n",
       "      <td>may</td>\n",
       "      <td>92</td>\n",
       "      <td>1</td>\n",
       "      <td>-1</td>\n",
       "      <td>0</td>\n",
       "      <td>unknown</td>\n",
       "      <td>no</td>\n",
       "    </tr>\n",
       "    <tr>\n",
       "      <th>4</th>\n",
       "      <td>33</td>\n",
       "      <td>unknown</td>\n",
       "      <td>single</td>\n",
       "      <td>unknown</td>\n",
       "      <td>no</td>\n",
       "      <td>1</td>\n",
       "      <td>no</td>\n",
       "      <td>no</td>\n",
       "      <td>unknown</td>\n",
       "      <td>5</td>\n",
       "      <td>may</td>\n",
       "      <td>198</td>\n",
       "      <td>1</td>\n",
       "      <td>-1</td>\n",
       "      <td>0</td>\n",
       "      <td>unknown</td>\n",
       "      <td>no</td>\n",
       "    </tr>\n",
       "  </tbody>\n",
       "</table>\n",
       "</div>"
      ],
      "text/plain": [
       "   age           job  marital  education default  balance housing loan  \\\n",
       "0   58    management  married   tertiary      no     2143     yes   no   \n",
       "1   44    technician   single  secondary      no       29     yes   no   \n",
       "2   33  entrepreneur  married  secondary      no        2     yes  yes   \n",
       "3   47   blue-collar  married    unknown      no     1506     yes   no   \n",
       "4   33       unknown   single    unknown      no        1      no   no   \n",
       "\n",
       "   contact  day month  duration  campaign  pdays  previous poutcome   y  \n",
       "0  unknown    5   may       261         1     -1         0  unknown  no  \n",
       "1  unknown    5   may       151         1     -1         0  unknown  no  \n",
       "2  unknown    5   may        76         1     -1         0  unknown  no  \n",
       "3  unknown    5   may        92         1     -1         0  unknown  no  \n",
       "4  unknown    5   may       198         1     -1         0  unknown  no  "
      ]
     },
     "execution_count": 36,
     "metadata": {},
     "output_type": "execute_result"
    }
   ],
   "source": [
    "amostra4 = amostra\n",
    "print(amostra4.shape)\n",
    "amostra4.head()"
   ]
  },
  {
   "cell_type": "code",
   "execution_count": 37,
   "metadata": {},
   "outputs": [
    {
     "data": {
      "text/html": [
       "<div>\n",
       "<style scoped>\n",
       "    .dataframe tbody tr th:only-of-type {\n",
       "        vertical-align: middle;\n",
       "    }\n",
       "\n",
       "    .dataframe tbody tr th {\n",
       "        vertical-align: top;\n",
       "    }\n",
       "\n",
       "    .dataframe thead th {\n",
       "        text-align: right;\n",
       "    }\n",
       "</style>\n",
       "<table border=\"1\" class=\"dataframe\">\n",
       "  <thead>\n",
       "    <tr style=\"text-align: right;\">\n",
       "      <th></th>\n",
       "      <th>age</th>\n",
       "      <th>job</th>\n",
       "      <th>marital</th>\n",
       "      <th>education</th>\n",
       "      <th>default</th>\n",
       "      <th>balance</th>\n",
       "      <th>housing</th>\n",
       "      <th>loan</th>\n",
       "      <th>contact</th>\n",
       "      <th>day</th>\n",
       "      <th>...</th>\n",
       "      <th>pdays</th>\n",
       "      <th>previous</th>\n",
       "      <th>poutcome</th>\n",
       "      <th>y</th>\n",
       "      <th>poutcome_failure</th>\n",
       "      <th>poutcome_other</th>\n",
       "      <th>poutcome_success</th>\n",
       "      <th>poutcome_unknown</th>\n",
       "      <th>y_no</th>\n",
       "      <th>y_yes</th>\n",
       "    </tr>\n",
       "  </thead>\n",
       "  <tbody>\n",
       "    <tr>\n",
       "      <th>0</th>\n",
       "      <td>58</td>\n",
       "      <td>management</td>\n",
       "      <td>married</td>\n",
       "      <td>tertiary</td>\n",
       "      <td>no</td>\n",
       "      <td>2143</td>\n",
       "      <td>yes</td>\n",
       "      <td>no</td>\n",
       "      <td>unknown</td>\n",
       "      <td>5</td>\n",
       "      <td>...</td>\n",
       "      <td>-1</td>\n",
       "      <td>0</td>\n",
       "      <td>unknown</td>\n",
       "      <td>no</td>\n",
       "      <td>0</td>\n",
       "      <td>0</td>\n",
       "      <td>0</td>\n",
       "      <td>1</td>\n",
       "      <td>1</td>\n",
       "      <td>0</td>\n",
       "    </tr>\n",
       "    <tr>\n",
       "      <th>1</th>\n",
       "      <td>44</td>\n",
       "      <td>technician</td>\n",
       "      <td>single</td>\n",
       "      <td>secondary</td>\n",
       "      <td>no</td>\n",
       "      <td>29</td>\n",
       "      <td>yes</td>\n",
       "      <td>no</td>\n",
       "      <td>unknown</td>\n",
       "      <td>5</td>\n",
       "      <td>...</td>\n",
       "      <td>-1</td>\n",
       "      <td>0</td>\n",
       "      <td>unknown</td>\n",
       "      <td>no</td>\n",
       "      <td>0</td>\n",
       "      <td>0</td>\n",
       "      <td>0</td>\n",
       "      <td>1</td>\n",
       "      <td>1</td>\n",
       "      <td>0</td>\n",
       "    </tr>\n",
       "    <tr>\n",
       "      <th>2</th>\n",
       "      <td>33</td>\n",
       "      <td>entrepreneur</td>\n",
       "      <td>married</td>\n",
       "      <td>secondary</td>\n",
       "      <td>no</td>\n",
       "      <td>2</td>\n",
       "      <td>yes</td>\n",
       "      <td>yes</td>\n",
       "      <td>unknown</td>\n",
       "      <td>5</td>\n",
       "      <td>...</td>\n",
       "      <td>-1</td>\n",
       "      <td>0</td>\n",
       "      <td>unknown</td>\n",
       "      <td>no</td>\n",
       "      <td>0</td>\n",
       "      <td>0</td>\n",
       "      <td>0</td>\n",
       "      <td>1</td>\n",
       "      <td>1</td>\n",
       "      <td>0</td>\n",
       "    </tr>\n",
       "    <tr>\n",
       "      <th>3</th>\n",
       "      <td>47</td>\n",
       "      <td>blue-collar</td>\n",
       "      <td>married</td>\n",
       "      <td>unknown</td>\n",
       "      <td>no</td>\n",
       "      <td>1506</td>\n",
       "      <td>yes</td>\n",
       "      <td>no</td>\n",
       "      <td>unknown</td>\n",
       "      <td>5</td>\n",
       "      <td>...</td>\n",
       "      <td>-1</td>\n",
       "      <td>0</td>\n",
       "      <td>unknown</td>\n",
       "      <td>no</td>\n",
       "      <td>0</td>\n",
       "      <td>0</td>\n",
       "      <td>0</td>\n",
       "      <td>1</td>\n",
       "      <td>1</td>\n",
       "      <td>0</td>\n",
       "    </tr>\n",
       "    <tr>\n",
       "      <th>4</th>\n",
       "      <td>33</td>\n",
       "      <td>unknown</td>\n",
       "      <td>single</td>\n",
       "      <td>unknown</td>\n",
       "      <td>no</td>\n",
       "      <td>1</td>\n",
       "      <td>no</td>\n",
       "      <td>no</td>\n",
       "      <td>unknown</td>\n",
       "      <td>5</td>\n",
       "      <td>...</td>\n",
       "      <td>-1</td>\n",
       "      <td>0</td>\n",
       "      <td>unknown</td>\n",
       "      <td>no</td>\n",
       "      <td>0</td>\n",
       "      <td>0</td>\n",
       "      <td>0</td>\n",
       "      <td>1</td>\n",
       "      <td>1</td>\n",
       "      <td>0</td>\n",
       "    </tr>\n",
       "  </tbody>\n",
       "</table>\n",
       "<p>5 rows × 23 columns</p>\n",
       "</div>"
      ],
      "text/plain": [
       "   age           job  marital  education default  balance housing loan  \\\n",
       "0   58    management  married   tertiary      no     2143     yes   no   \n",
       "1   44    technician   single  secondary      no       29     yes   no   \n",
       "2   33  entrepreneur  married  secondary      no        2     yes  yes   \n",
       "3   47   blue-collar  married    unknown      no     1506     yes   no   \n",
       "4   33       unknown   single    unknown      no        1      no   no   \n",
       "\n",
       "   contact  day  ... pdays  previous  poutcome   y  poutcome_failure  \\\n",
       "0  unknown    5  ...    -1         0   unknown  no                 0   \n",
       "1  unknown    5  ...    -1         0   unknown  no                 0   \n",
       "2  unknown    5  ...    -1         0   unknown  no                 0   \n",
       "3  unknown    5  ...    -1         0   unknown  no                 0   \n",
       "4  unknown    5  ...    -1         0   unknown  no                 0   \n",
       "\n",
       "  poutcome_other poutcome_success  poutcome_unknown  y_no  y_yes  \n",
       "0              0                0                 1     1      0  \n",
       "1              0                0                 1     1      0  \n",
       "2              0                0                 1     1      0  \n",
       "3              0                0                 1     1      0  \n",
       "4              0                0                 1     1      0  \n",
       "\n",
       "[5 rows x 23 columns]"
      ]
     },
     "execution_count": 37,
     "metadata": {},
     "output_type": "execute_result"
    }
   ],
   "source": [
    "amostra4_1 = pd.get_dummies(amostra4[['poutcome', 'y']])\n",
    "amostra4_1 = pd.concat([amostra4,amostra4_1],axis=1)\n",
    "amostra4_1.head()"
   ]
  },
  {
   "cell_type": "code",
   "execution_count": 38,
   "metadata": {},
   "outputs": [],
   "source": [
    "amostra4_2 = amostra4_1[['campaign', 'previous', 'poutcome_success', 'y_yes']]"
   ]
  },
  {
   "cell_type": "code",
   "execution_count": 39,
   "metadata": {},
   "outputs": [
    {
     "name": "stdout",
     "output_type": "stream",
     "text": [
      "Shape:  (45211, 4)\n"
     ]
    },
    {
     "data": {
      "text/html": [
       "<div>\n",
       "<style scoped>\n",
       "    .dataframe tbody tr th:only-of-type {\n",
       "        vertical-align: middle;\n",
       "    }\n",
       "\n",
       "    .dataframe tbody tr th {\n",
       "        vertical-align: top;\n",
       "    }\n",
       "\n",
       "    .dataframe thead th {\n",
       "        text-align: right;\n",
       "    }\n",
       "</style>\n",
       "<table border=\"1\" class=\"dataframe\">\n",
       "  <thead>\n",
       "    <tr style=\"text-align: right;\">\n",
       "      <th></th>\n",
       "      <th>campaign</th>\n",
       "      <th>previous</th>\n",
       "      <th>poutcome_success</th>\n",
       "      <th>y_yes</th>\n",
       "    </tr>\n",
       "  </thead>\n",
       "  <tbody>\n",
       "    <tr>\n",
       "      <th>0</th>\n",
       "      <td>1</td>\n",
       "      <td>0</td>\n",
       "      <td>0</td>\n",
       "      <td>0</td>\n",
       "    </tr>\n",
       "    <tr>\n",
       "      <th>1</th>\n",
       "      <td>1</td>\n",
       "      <td>0</td>\n",
       "      <td>0</td>\n",
       "      <td>0</td>\n",
       "    </tr>\n",
       "    <tr>\n",
       "      <th>2</th>\n",
       "      <td>1</td>\n",
       "      <td>0</td>\n",
       "      <td>0</td>\n",
       "      <td>0</td>\n",
       "    </tr>\n",
       "    <tr>\n",
       "      <th>3</th>\n",
       "      <td>1</td>\n",
       "      <td>0</td>\n",
       "      <td>0</td>\n",
       "      <td>0</td>\n",
       "    </tr>\n",
       "    <tr>\n",
       "      <th>4</th>\n",
       "      <td>1</td>\n",
       "      <td>0</td>\n",
       "      <td>0</td>\n",
       "      <td>0</td>\n",
       "    </tr>\n",
       "  </tbody>\n",
       "</table>\n",
       "</div>"
      ],
      "text/plain": [
       "   campaign  previous  poutcome_success  y_yes\n",
       "0         1         0                 0      0\n",
       "1         1         0                 0      0\n",
       "2         1         0                 0      0\n",
       "3         1         0                 0      0\n",
       "4         1         0                 0      0"
      ]
     },
     "execution_count": 39,
     "metadata": {},
     "output_type": "execute_result"
    }
   ],
   "source": [
    "print('Shape: ', amostra4_2.shape)\n",
    "amostra4_2.head()"
   ]
  },
  {
   "cell_type": "code",
   "execution_count": 40,
   "metadata": {},
   "outputs": [
    {
     "name": "stderr",
     "output_type": "stream",
     "text": [
      "D:\\SW_instalado\\Anaconda3\\lib\\site-packages\\statsmodels\\nonparametric\\kde.py:488: RuntimeWarning: invalid value encountered in true_divide\n",
      "  binned = fast_linbin(X, a, b, gridsize) / (delta * nobs)\n",
      "D:\\SW_instalado\\Anaconda3\\lib\\site-packages\\statsmodels\\nonparametric\\kdetools.py:34: RuntimeWarning: invalid value encountered in double_scalars\n",
      "  FAC1 = 2*(np.pi*bw/RANGE)**2\n"
     ]
    },
    {
     "data": {
      "text/plain": [
       "<seaborn.axisgrid.PairGrid at 0x2895e5e0198>"
      ]
     },
     "execution_count": 40,
     "metadata": {},
     "output_type": "execute_result"
    },
    {
     "data": {
      "image/png": "[encoded data removed]",
      "text/plain": [
       "<Figure size 762.375x720 with 20 Axes>"
      ]
     },
     "metadata": {
      "needs_background": "light"
     },
     "output_type": "display_data"
    }
   ],
   "source": [
    "sns.pairplot(amostra4_2, hue='y_yes')"
   ]
  },
  {
   "cell_type": "code",
   "execution_count": 41,
   "metadata": {},
   "outputs": [
    {
     "data": {
      "text/html": [
       "<style  type=\"text/css\" >\n",
       "    #T_46596698_7393_11ea_b21a_b88584fbfaecrow0_col0 {\n",
       "            background-color:  #fde725;\n",
       "            color:  #000000;\n",
       "        }    #T_46596698_7393_11ea_b21a_b88584fbfaecrow0_col1 {\n",
       "            background-color:  #470e61;\n",
       "            color:  #f1f1f1;\n",
       "        }    #T_46596698_7393_11ea_b21a_b88584fbfaecrow0_col2 {\n",
       "            background-color:  #450559;\n",
       "            color:  #f1f1f1;\n",
       "        }    #T_46596698_7393_11ea_b21a_b88584fbfaecrow0_col3 {\n",
       "            background-color:  #440154;\n",
       "            color:  #f1f1f1;\n",
       "        }    #T_46596698_7393_11ea_b21a_b88584fbfaecrow1_col0 {\n",
       "            background-color:  #440154;\n",
       "            color:  #f1f1f1;\n",
       "        }    #T_46596698_7393_11ea_b21a_b88584fbfaecrow1_col1 {\n",
       "            background-color:  #fde725;\n",
       "            color:  #000000;\n",
       "        }    #T_46596698_7393_11ea_b21a_b88584fbfaecrow1_col2 {\n",
       "            background-color:  #3e4c8a;\n",
       "            color:  #f1f1f1;\n",
       "        }    #T_46596698_7393_11ea_b21a_b88584fbfaecrow1_col3 {\n",
       "            background-color:  #472c7a;\n",
       "            color:  #f1f1f1;\n",
       "        }    #T_46596698_7393_11ea_b21a_b88584fbfaecrow2_col0 {\n",
       "            background-color:  #440154;\n",
       "            color:  #f1f1f1;\n",
       "        }    #T_46596698_7393_11ea_b21a_b88584fbfaecrow2_col1 {\n",
       "            background-color:  #3c508b;\n",
       "            color:  #f1f1f1;\n",
       "        }    #T_46596698_7393_11ea_b21a_b88584fbfaecrow2_col2 {\n",
       "            background-color:  #fde725;\n",
       "            color:  #000000;\n",
       "        }    #T_46596698_7393_11ea_b21a_b88584fbfaecrow2_col3 {\n",
       "            background-color:  #2f6b8e;\n",
       "            color:  #f1f1f1;\n",
       "        }    #T_46596698_7393_11ea_b21a_b88584fbfaecrow3_col0 {\n",
       "            background-color:  #440154;\n",
       "            color:  #f1f1f1;\n",
       "        }    #T_46596698_7393_11ea_b21a_b88584fbfaecrow3_col1 {\n",
       "            background-color:  #453581;\n",
       "            color:  #f1f1f1;\n",
       "        }    #T_46596698_7393_11ea_b21a_b88584fbfaecrow3_col2 {\n",
       "            background-color:  #2e6d8e;\n",
       "            color:  #f1f1f1;\n",
       "        }    #T_46596698_7393_11ea_b21a_b88584fbfaecrow3_col3 {\n",
       "            background-color:  #fde725;\n",
       "            color:  #000000;\n",
       "        }</style><table id=\"T_46596698_7393_11ea_b21a_b88584fbfaec\" ><thead>    <tr>        <th class=\"blank level0\" ></th>        <th class=\"col_heading level0 col0\" >campaign</th>        <th class=\"col_heading level0 col1\" >previous</th>        <th class=\"col_heading level0 col2\" >poutcome_success</th>        <th class=\"col_heading level0 col3\" >y_yes</th>    </tr></thead><tbody>\n",
       "                <tr>\n",
       "                        <th id=\"T_46596698_7393_11ea_b21a_b88584fbfaeclevel0_row0\" class=\"row_heading level0 row0\" >campaign</th>\n",
       "                        <td id=\"T_46596698_7393_11ea_b21a_b88584fbfaecrow0_col0\" class=\"data row0 col0\" >1.0</td>\n",
       "                        <td id=\"T_46596698_7393_11ea_b21a_b88584fbfaecrow0_col1\" class=\"data row0 col1\" >-0.033</td>\n",
       "                        <td id=\"T_46596698_7393_11ea_b21a_b88584fbfaecrow0_col2\" class=\"data row0 col2\" >-0.057</td>\n",
       "                        <td id=\"T_46596698_7393_11ea_b21a_b88584fbfaecrow0_col3\" class=\"data row0 col3\" >-0.073</td>\n",
       "            </tr>\n",
       "            <tr>\n",
       "                        <th id=\"T_46596698_7393_11ea_b21a_b88584fbfaeclevel0_row1\" class=\"row_heading level0 row1\" >previous</th>\n",
       "                        <td id=\"T_46596698_7393_11ea_b21a_b88584fbfaecrow1_col0\" class=\"data row1 col0\" >-0.033</td>\n",
       "                        <td id=\"T_46596698_7393_11ea_b21a_b88584fbfaecrow1_col1\" class=\"data row1 col1\" >1.0</td>\n",
       "                        <td id=\"T_46596698_7393_11ea_b21a_b88584fbfaecrow1_col2\" class=\"data row1 col2\" >0.2</td>\n",
       "                        <td id=\"T_46596698_7393_11ea_b21a_b88584fbfaecrow1_col3\" class=\"data row1 col3\" >0.093</td>\n",
       "            </tr>\n",
       "            <tr>\n",
       "                        <th id=\"T_46596698_7393_11ea_b21a_b88584fbfaeclevel0_row2\" class=\"row_heading level0 row2\" >poutcome_success</th>\n",
       "                        <td id=\"T_46596698_7393_11ea_b21a_b88584fbfaecrow2_col0\" class=\"data row2 col0\" >-0.057</td>\n",
       "                        <td id=\"T_46596698_7393_11ea_b21a_b88584fbfaecrow2_col1\" class=\"data row2 col1\" >0.2</td>\n",
       "                        <td id=\"T_46596698_7393_11ea_b21a_b88584fbfaecrow2_col2\" class=\"data row2 col2\" >1.0</td>\n",
       "                        <td id=\"T_46596698_7393_11ea_b21a_b88584fbfaecrow2_col3\" class=\"data row2 col3\" >0.31</td>\n",
       "            </tr>\n",
       "            <tr>\n",
       "                        <th id=\"T_46596698_7393_11ea_b21a_b88584fbfaeclevel0_row3\" class=\"row_heading level0 row3\" >y_yes</th>\n",
       "                        <td id=\"T_46596698_7393_11ea_b21a_b88584fbfaecrow3_col0\" class=\"data row3 col0\" >-0.073</td>\n",
       "                        <td id=\"T_46596698_7393_11ea_b21a_b88584fbfaecrow3_col1\" class=\"data row3 col1\" >0.093</td>\n",
       "                        <td id=\"T_46596698_7393_11ea_b21a_b88584fbfaecrow3_col2\" class=\"data row3 col2\" >0.31</td>\n",
       "                        <td id=\"T_46596698_7393_11ea_b21a_b88584fbfaecrow3_col3\" class=\"data row3 col3\" >1.0</td>\n",
       "            </tr>\n",
       "    </tbody></table>"
      ],
      "text/plain": [
       "<pandas.io.formats.style.Styler at 0x28962f6f550>"
      ]
     },
     "execution_count": 41,
     "metadata": {},
     "output_type": "execute_result"
    }
   ],
   "source": [
    "amostra4_2.corr().style.format(\"{:.2}\").background_gradient(cmap=plt.get_cmap('viridis'), axis=1)"
   ]
  },
  {
   "cell_type": "code",
   "execution_count": 42,
   "metadata": {},
   "outputs": [
    {
     "data": {
      "text/html": [
       "<style  type=\"text/css\" >\n",
       "    #T_4d892d54_7393_11ea_a8fe_b88584fbfaecrow0_col0 {\n",
       "            background-color:  #fee838;\n",
       "            color:  #000000;\n",
       "        }    #T_4d892d54_7393_11ea_a8fe_b88584fbfaecrow0_col1 {\n",
       "            background-color:  #00224e;\n",
       "            color:  #f1f1f1;\n",
       "        }    #T_4d892d54_7393_11ea_a8fe_b88584fbfaecrow0_col2 {\n",
       "            background-color:  #00285b;\n",
       "            color:  #f1f1f1;\n",
       "        }    #T_4d892d54_7393_11ea_a8fe_b88584fbfaecrow0_col3 {\n",
       "            background-color:  #002656;\n",
       "            color:  #f1f1f1;\n",
       "        }    #T_4d892d54_7393_11ea_a8fe_b88584fbfaecrow1_col0 {\n",
       "            background-color:  #00224e;\n",
       "            color:  #f1f1f1;\n",
       "        }    #T_4d892d54_7393_11ea_a8fe_b88584fbfaecrow1_col1 {\n",
       "            background-color:  #fee838;\n",
       "            color:  #000000;\n",
       "        }    #T_4d892d54_7393_11ea_a8fe_b88584fbfaecrow1_col2 {\n",
       "            background-color:  #727374;\n",
       "            color:  #000000;\n",
       "        }    #T_4d892d54_7393_11ea_a8fe_b88584fbfaecrow1_col3 {\n",
       "            background-color:  #434e6c;\n",
       "            color:  #f1f1f1;\n",
       "        }    #T_4d892d54_7393_11ea_a8fe_b88584fbfaecrow2_col0 {\n",
       "            background-color:  #00224e;\n",
       "            color:  #f1f1f1;\n",
       "        }    #T_4d892d54_7393_11ea_a8fe_b88584fbfaecrow2_col1 {\n",
       "            background-color:  #6e6f73;\n",
       "            color:  #000000;\n",
       "        }    #T_4d892d54_7393_11ea_a8fe_b88584fbfaecrow2_col2 {\n",
       "            background-color:  #fee838;\n",
       "            color:  #000000;\n",
       "        }    #T_4d892d54_7393_11ea_a8fe_b88584fbfaecrow2_col3 {\n",
       "            background-color:  #5c616e;\n",
       "            color:  #f1f1f1;\n",
       "        }    #T_4d892d54_7393_11ea_a8fe_b88584fbfaecrow3_col0 {\n",
       "            background-color:  #00224e;\n",
       "            color:  #f1f1f1;\n",
       "        }    #T_4d892d54_7393_11ea_a8fe_b88584fbfaecrow3_col1 {\n",
       "            background-color:  #3e4b6c;\n",
       "            color:  #f1f1f1;\n",
       "        }    #T_4d892d54_7393_11ea_a8fe_b88584fbfaecrow3_col2 {\n",
       "            background-color:  #5e626e;\n",
       "            color:  #f1f1f1;\n",
       "        }    #T_4d892d54_7393_11ea_a8fe_b88584fbfaecrow3_col3 {\n",
       "            background-color:  #fee838;\n",
       "            color:  #000000;\n",
       "        }</style><table id=\"T_4d892d54_7393_11ea_a8fe_b88584fbfaec\" ><thead>    <tr>        <th class=\"blank level0\" ></th>        <th class=\"col_heading level0 col0\" >campaign</th>        <th class=\"col_heading level0 col1\" >previous</th>        <th class=\"col_heading level0 col2\" >poutcome_success</th>        <th class=\"col_heading level0 col3\" >y_yes</th>    </tr></thead><tbody>\n",
       "                <tr>\n",
       "                        <th id=\"T_4d892d54_7393_11ea_a8fe_b88584fbfaeclevel0_row0\" class=\"row_heading level0 row0\" >campaign</th>\n",
       "                        <td id=\"T_4d892d54_7393_11ea_a8fe_b88584fbfaecrow0_col0\" class=\"data row0 col0\" >1.0</td>\n",
       "                        <td id=\"T_4d892d54_7393_11ea_a8fe_b88584fbfaecrow0_col1\" class=\"data row0 col1\" >-0.11</td>\n",
       "                        <td id=\"T_4d892d54_7393_11ea_a8fe_b88584fbfaecrow0_col2\" class=\"data row0 col2\" >-0.074</td>\n",
       "                        <td id=\"T_4d892d54_7393_11ea_a8fe_b88584fbfaecrow0_col3\" class=\"data row0 col3\" >-0.084</td>\n",
       "            </tr>\n",
       "            <tr>\n",
       "                        <th id=\"T_4d892d54_7393_11ea_a8fe_b88584fbfaeclevel0_row1\" class=\"row_heading level0 row1\" >previous</th>\n",
       "                        <td id=\"T_4d892d54_7393_11ea_a8fe_b88584fbfaecrow1_col0\" class=\"data row1 col0\" >-0.11</td>\n",
       "                        <td id=\"T_4d892d54_7393_11ea_a8fe_b88584fbfaecrow1_col1\" class=\"data row1 col1\" >1.0</td>\n",
       "                        <td id=\"T_4d892d54_7393_11ea_a8fe_b88584fbfaecrow1_col2\" class=\"data row1 col2\" >0.39</td>\n",
       "                        <td id=\"T_4d892d54_7393_11ea_a8fe_b88584fbfaecrow1_col3\" class=\"data row1 col3\" >0.17</td>\n",
       "            </tr>\n",
       "            <tr>\n",
       "                        <th id=\"T_4d892d54_7393_11ea_a8fe_b88584fbfaeclevel0_row2\" class=\"row_heading level0 row2\" >poutcome_success</th>\n",
       "                        <td id=\"T_4d892d54_7393_11ea_a8fe_b88584fbfaecrow2_col0\" class=\"data row2 col0\" >-0.074</td>\n",
       "                        <td id=\"T_4d892d54_7393_11ea_a8fe_b88584fbfaecrow2_col1\" class=\"data row2 col1\" >0.39</td>\n",
       "                        <td id=\"T_4d892d54_7393_11ea_a8fe_b88584fbfaecrow2_col2\" class=\"data row2 col2\" >1.0</td>\n",
       "                        <td id=\"T_4d892d54_7393_11ea_a8fe_b88584fbfaecrow2_col3\" class=\"data row2 col3\" >0.31</td>\n",
       "            </tr>\n",
       "            <tr>\n",
       "                        <th id=\"T_4d892d54_7393_11ea_a8fe_b88584fbfaeclevel0_row3\" class=\"row_heading level0 row3\" >y_yes</th>\n",
       "                        <td id=\"T_4d892d54_7393_11ea_a8fe_b88584fbfaecrow3_col0\" class=\"data row3 col0\" >-0.084</td>\n",
       "                        <td id=\"T_4d892d54_7393_11ea_a8fe_b88584fbfaecrow3_col1\" class=\"data row3 col1\" >0.17</td>\n",
       "                        <td id=\"T_4d892d54_7393_11ea_a8fe_b88584fbfaecrow3_col2\" class=\"data row3 col2\" >0.31</td>\n",
       "                        <td id=\"T_4d892d54_7393_11ea_a8fe_b88584fbfaecrow3_col3\" class=\"data row3 col3\" >1.0</td>\n",
       "            </tr>\n",
       "    </tbody></table>"
      ],
      "text/plain": [
       "<pandas.io.formats.style.Styler at 0x28962db2550>"
      ]
     },
     "execution_count": 42,
     "metadata": {},
     "output_type": "execute_result"
    }
   ],
   "source": [
    "amostra4_2.corr(method='spearman').style.format(\"{:.2}\").background_gradient(cmap=plt.get_cmap('cividis'), axis=1)"
   ]
  },
  {
   "cell_type": "code",
   "execution_count": 43,
   "metadata": {},
   "outputs": [
    {
     "data": {
      "text/html": [
       "<div>\n",
       "<style scoped>\n",
       "    .dataframe tbody tr th:only-of-type {\n",
       "        vertical-align: middle;\n",
       "    }\n",
       "\n",
       "    .dataframe tbody tr th {\n",
       "        vertical-align: top;\n",
       "    }\n",
       "\n",
       "    .dataframe thead th {\n",
       "        text-align: right;\n",
       "    }\n",
       "</style>\n",
       "<table border=\"1\" class=\"dataframe\">\n",
       "  <thead>\n",
       "    <tr style=\"text-align: right;\">\n",
       "      <th></th>\n",
       "      <th>campaign</th>\n",
       "      <th>previous</th>\n",
       "      <th>poutcome_success</th>\n",
       "      <th>y_yes</th>\n",
       "    </tr>\n",
       "  </thead>\n",
       "  <tbody>\n",
       "    <tr>\n",
       "      <th>campaign</th>\n",
       "      <td>9.597733</td>\n",
       "      <td>-0.234459</td>\n",
       "      <td>-0.032010</td>\n",
       "      <td>-0.072859</td>\n",
       "    </tr>\n",
       "    <tr>\n",
       "      <th>previous</th>\n",
       "      <td>-0.234459</td>\n",
       "      <td>5.305841</td>\n",
       "      <td>0.083392</td>\n",
       "      <td>0.069026</td>\n",
       "    </tr>\n",
       "    <tr>\n",
       "      <th>poutcome_success</th>\n",
       "      <td>-0.032010</td>\n",
       "      <td>0.083392</td>\n",
       "      <td>0.032305</td>\n",
       "      <td>0.017723</td>\n",
       "    </tr>\n",
       "    <tr>\n",
       "      <th>y_yes</th>\n",
       "      <td>-0.072859</td>\n",
       "      <td>0.069026</td>\n",
       "      <td>0.017723</td>\n",
       "      <td>0.103302</td>\n",
       "    </tr>\n",
       "  </tbody>\n",
       "</table>\n",
       "</div>"
      ],
      "text/plain": [
       "                  campaign  previous  poutcome_success     y_yes\n",
       "campaign          9.597733 -0.234459         -0.032010 -0.072859\n",
       "previous         -0.234459  5.305841          0.083392  0.069026\n",
       "poutcome_success -0.032010  0.083392          0.032305  0.017723\n",
       "y_yes            -0.072859  0.069026          0.017723  0.103302"
      ]
     },
     "execution_count": 43,
     "metadata": {},
     "output_type": "execute_result"
    }
   ],
   "source": [
    "amostra4_2.cov()"
   ]
  },
  {
   "cell_type": "code",
   "execution_count": 44,
   "metadata": {},
   "outputs": [
    {
     "data": {
      "image/png": "[encoded data removed]",
      "text/plain": [
       "<Figure size 432x288 with 2 Axes>"
      ]
     },
     "metadata": {
      "needs_background": "light"
     },
     "output_type": "display_data"
    }
   ],
   "source": [
    "sns.heatmap(amostra4_2.cov(), annot=True, fmt='g', cmap=\"YlGnBu\")\n",
    "plt.show()"
   ]
  },
  {
   "cell_type": "code",
   "execution_count": null,
   "metadata": {},
   "outputs": [],
   "source": []
  },
  {
   "cell_type": "markdown",
   "metadata": {},
   "source": [
    "### 5-Qual o fator determinante para que o banco exija um seguro de crédito?\n",
    "#### Resposta: os fatores relacionados ao perfil do cliente são:\n",
    "    . balance:  51,1%\n",
    "    . age: 25,6%\n",
    "    . job: 11,1%\n",
    "    . education: 4,8%\n",
    "    . marital:  3,8%\n",
    "    . housing:  2,1%\n",
    "    . loan: 1,6%\n",
    "</br>\n"
   ]
  },
  {
   "cell_type": "code",
   "execution_count": 45,
   "metadata": {},
   "outputs": [
    {
     "data": {
      "text/html": [
       "<div>\n",
       "<style scoped>\n",
       "    .dataframe tbody tr th:only-of-type {\n",
       "        vertical-align: middle;\n",
       "    }\n",
       "\n",
       "    .dataframe tbody tr th {\n",
       "        vertical-align: top;\n",
       "    }\n",
       "\n",
       "    .dataframe thead th {\n",
       "        text-align: right;\n",
       "    }\n",
       "</style>\n",
       "<table border=\"1\" class=\"dataframe\">\n",
       "  <thead>\n",
       "    <tr style=\"text-align: right;\">\n",
       "      <th></th>\n",
       "      <th>age</th>\n",
       "      <th>job</th>\n",
       "      <th>marital</th>\n",
       "      <th>education</th>\n",
       "      <th>default</th>\n",
       "      <th>balance</th>\n",
       "      <th>housing</th>\n",
       "      <th>loan</th>\n",
       "    </tr>\n",
       "  </thead>\n",
       "  <tbody>\n",
       "    <tr>\n",
       "      <th>0</th>\n",
       "      <td>58</td>\n",
       "      <td>management</td>\n",
       "      <td>married</td>\n",
       "      <td>tertiary</td>\n",
       "      <td>no</td>\n",
       "      <td>2143</td>\n",
       "      <td>yes</td>\n",
       "      <td>no</td>\n",
       "    </tr>\n",
       "    <tr>\n",
       "      <th>1</th>\n",
       "      <td>44</td>\n",
       "      <td>technician</td>\n",
       "      <td>single</td>\n",
       "      <td>secondary</td>\n",
       "      <td>no</td>\n",
       "      <td>29</td>\n",
       "      <td>yes</td>\n",
       "      <td>no</td>\n",
       "    </tr>\n",
       "    <tr>\n",
       "      <th>2</th>\n",
       "      <td>33</td>\n",
       "      <td>entrepreneur</td>\n",
       "      <td>married</td>\n",
       "      <td>secondary</td>\n",
       "      <td>no</td>\n",
       "      <td>2</td>\n",
       "      <td>yes</td>\n",
       "      <td>yes</td>\n",
       "    </tr>\n",
       "    <tr>\n",
       "      <th>3</th>\n",
       "      <td>47</td>\n",
       "      <td>blue-collar</td>\n",
       "      <td>married</td>\n",
       "      <td>unknown</td>\n",
       "      <td>no</td>\n",
       "      <td>1506</td>\n",
       "      <td>yes</td>\n",
       "      <td>no</td>\n",
       "    </tr>\n",
       "    <tr>\n",
       "      <th>4</th>\n",
       "      <td>33</td>\n",
       "      <td>unknown</td>\n",
       "      <td>single</td>\n",
       "      <td>unknown</td>\n",
       "      <td>no</td>\n",
       "      <td>1</td>\n",
       "      <td>no</td>\n",
       "      <td>no</td>\n",
       "    </tr>\n",
       "  </tbody>\n",
       "</table>\n",
       "</div>"
      ],
      "text/plain": [
       "   age           job  marital  education default  balance housing loan\n",
       "0   58    management  married   tertiary      no     2143     yes   no\n",
       "1   44    technician   single  secondary      no       29     yes   no\n",
       "2   33  entrepreneur  married  secondary      no        2     yes  yes\n",
       "3   47   blue-collar  married    unknown      no     1506     yes   no\n",
       "4   33       unknown   single    unknown      no        1      no   no"
      ]
     },
     "execution_count": 45,
     "metadata": {},
     "output_type": "execute_result"
    }
   ],
   "source": [
    "amostra5 = amostra.drop(['contact', 'day', 'month', 'duration', 'campaign', 'pdays', 'previous', 'poutcome', 'y'], axis = 1)\n",
    "amostra5.head()"
   ]
  },
  {
   "cell_type": "code",
   "execution_count": 46,
   "metadata": {},
   "outputs": [],
   "source": [
    "amostra5_1 = pd.get_dummies(amostra5[['default','housing', 'loan']])\n",
    "amostra5_1 = pd.concat([amostra5, amostra5_1], axis =1)"
   ]
  },
  {
   "cell_type": "code",
   "execution_count": 47,
   "metadata": {},
   "outputs": [
    {
     "data": {
      "text/html": [
       "<div>\n",
       "<style scoped>\n",
       "    .dataframe tbody tr th:only-of-type {\n",
       "        vertical-align: middle;\n",
       "    }\n",
       "\n",
       "    .dataframe tbody tr th {\n",
       "        vertical-align: top;\n",
       "    }\n",
       "\n",
       "    .dataframe thead th {\n",
       "        text-align: right;\n",
       "    }\n",
       "</style>\n",
       "<table border=\"1\" class=\"dataframe\">\n",
       "  <thead>\n",
       "    <tr style=\"text-align: right;\">\n",
       "      <th></th>\n",
       "      <th>age</th>\n",
       "      <th>job</th>\n",
       "      <th>marital</th>\n",
       "      <th>education</th>\n",
       "      <th>default</th>\n",
       "      <th>balance</th>\n",
       "      <th>housing</th>\n",
       "      <th>loan</th>\n",
       "      <th>default_no</th>\n",
       "      <th>default_yes</th>\n",
       "      <th>housing_no</th>\n",
       "      <th>housing_yes</th>\n",
       "      <th>loan_no</th>\n",
       "      <th>loan_yes</th>\n",
       "    </tr>\n",
       "  </thead>\n",
       "  <tbody>\n",
       "    <tr>\n",
       "      <th>0</th>\n",
       "      <td>58</td>\n",
       "      <td>management</td>\n",
       "      <td>married</td>\n",
       "      <td>tertiary</td>\n",
       "      <td>no</td>\n",
       "      <td>2143</td>\n",
       "      <td>yes</td>\n",
       "      <td>no</td>\n",
       "      <td>1</td>\n",
       "      <td>0</td>\n",
       "      <td>0</td>\n",
       "      <td>1</td>\n",
       "      <td>1</td>\n",
       "      <td>0</td>\n",
       "    </tr>\n",
       "    <tr>\n",
       "      <th>1</th>\n",
       "      <td>44</td>\n",
       "      <td>technician</td>\n",
       "      <td>single</td>\n",
       "      <td>secondary</td>\n",
       "      <td>no</td>\n",
       "      <td>29</td>\n",
       "      <td>yes</td>\n",
       "      <td>no</td>\n",
       "      <td>1</td>\n",
       "      <td>0</td>\n",
       "      <td>0</td>\n",
       "      <td>1</td>\n",
       "      <td>1</td>\n",
       "      <td>0</td>\n",
       "    </tr>\n",
       "    <tr>\n",
       "      <th>2</th>\n",
       "      <td>33</td>\n",
       "      <td>entrepreneur</td>\n",
       "      <td>married</td>\n",
       "      <td>secondary</td>\n",
       "      <td>no</td>\n",
       "      <td>2</td>\n",
       "      <td>yes</td>\n",
       "      <td>yes</td>\n",
       "      <td>1</td>\n",
       "      <td>0</td>\n",
       "      <td>0</td>\n",
       "      <td>1</td>\n",
       "      <td>0</td>\n",
       "      <td>1</td>\n",
       "    </tr>\n",
       "    <tr>\n",
       "      <th>3</th>\n",
       "      <td>47</td>\n",
       "      <td>blue-collar</td>\n",
       "      <td>married</td>\n",
       "      <td>unknown</td>\n",
       "      <td>no</td>\n",
       "      <td>1506</td>\n",
       "      <td>yes</td>\n",
       "      <td>no</td>\n",
       "      <td>1</td>\n",
       "      <td>0</td>\n",
       "      <td>0</td>\n",
       "      <td>1</td>\n",
       "      <td>1</td>\n",
       "      <td>0</td>\n",
       "    </tr>\n",
       "    <tr>\n",
       "      <th>4</th>\n",
       "      <td>33</td>\n",
       "      <td>unknown</td>\n",
       "      <td>single</td>\n",
       "      <td>unknown</td>\n",
       "      <td>no</td>\n",
       "      <td>1</td>\n",
       "      <td>no</td>\n",
       "      <td>no</td>\n",
       "      <td>1</td>\n",
       "      <td>0</td>\n",
       "      <td>1</td>\n",
       "      <td>0</td>\n",
       "      <td>1</td>\n",
       "      <td>0</td>\n",
       "    </tr>\n",
       "  </tbody>\n",
       "</table>\n",
       "</div>"
      ],
      "text/plain": [
       "   age           job  marital  education default  balance housing loan  \\\n",
       "0   58    management  married   tertiary      no     2143     yes   no   \n",
       "1   44    technician   single  secondary      no       29     yes   no   \n",
       "2   33  entrepreneur  married  secondary      no        2     yes  yes   \n",
       "3   47   blue-collar  married    unknown      no     1506     yes   no   \n",
       "4   33       unknown   single    unknown      no        1      no   no   \n",
       "\n",
       "   default_no  default_yes  housing_no  housing_yes  loan_no  loan_yes  \n",
       "0           1            0           0            1        1         0  \n",
       "1           1            0           0            1        1         0  \n",
       "2           1            0           0            1        0         1  \n",
       "3           1            0           0            1        1         0  \n",
       "4           1            0           1            0        1         0  "
      ]
     },
     "execution_count": 47,
     "metadata": {},
     "output_type": "execute_result"
    }
   ],
   "source": [
    "amostra5_1.head()"
   ]
  },
  {
   "cell_type": "code",
   "execution_count": 48,
   "metadata": {},
   "outputs": [
    {
     "data": {
      "text/html": [
       "<div>\n",
       "<style scoped>\n",
       "    .dataframe tbody tr th:only-of-type {\n",
       "        vertical-align: middle;\n",
       "    }\n",
       "\n",
       "    .dataframe tbody tr th {\n",
       "        vertical-align: top;\n",
       "    }\n",
       "\n",
       "    .dataframe thead th {\n",
       "        text-align: right;\n",
       "    }\n",
       "</style>\n",
       "<table border=\"1\" class=\"dataframe\">\n",
       "  <thead>\n",
       "    <tr style=\"text-align: right;\">\n",
       "      <th></th>\n",
       "      <th>age</th>\n",
       "      <th>job</th>\n",
       "      <th>marital</th>\n",
       "      <th>education</th>\n",
       "      <th>balance</th>\n",
       "      <th>default_yes</th>\n",
       "      <th>housing_yes</th>\n",
       "      <th>loan_yes</th>\n",
       "    </tr>\n",
       "  </thead>\n",
       "  <tbody>\n",
       "    <tr>\n",
       "      <th>0</th>\n",
       "      <td>58</td>\n",
       "      <td>management</td>\n",
       "      <td>married</td>\n",
       "      <td>tertiary</td>\n",
       "      <td>2143</td>\n",
       "      <td>0</td>\n",
       "      <td>1</td>\n",
       "      <td>0</td>\n",
       "    </tr>\n",
       "    <tr>\n",
       "      <th>1</th>\n",
       "      <td>44</td>\n",
       "      <td>technician</td>\n",
       "      <td>single</td>\n",
       "      <td>secondary</td>\n",
       "      <td>29</td>\n",
       "      <td>0</td>\n",
       "      <td>1</td>\n",
       "      <td>0</td>\n",
       "    </tr>\n",
       "    <tr>\n",
       "      <th>2</th>\n",
       "      <td>33</td>\n",
       "      <td>entrepreneur</td>\n",
       "      <td>married</td>\n",
       "      <td>secondary</td>\n",
       "      <td>2</td>\n",
       "      <td>0</td>\n",
       "      <td>1</td>\n",
       "      <td>1</td>\n",
       "    </tr>\n",
       "    <tr>\n",
       "      <th>3</th>\n",
       "      <td>47</td>\n",
       "      <td>blue-collar</td>\n",
       "      <td>married</td>\n",
       "      <td>unknown</td>\n",
       "      <td>1506</td>\n",
       "      <td>0</td>\n",
       "      <td>1</td>\n",
       "      <td>0</td>\n",
       "    </tr>\n",
       "    <tr>\n",
       "      <th>4</th>\n",
       "      <td>33</td>\n",
       "      <td>unknown</td>\n",
       "      <td>single</td>\n",
       "      <td>unknown</td>\n",
       "      <td>1</td>\n",
       "      <td>0</td>\n",
       "      <td>0</td>\n",
       "      <td>0</td>\n",
       "    </tr>\n",
       "  </tbody>\n",
       "</table>\n",
       "</div>"
      ],
      "text/plain": [
       "   age           job  marital  education  balance  default_yes  housing_yes  \\\n",
       "0   58    management  married   tertiary     2143            0            1   \n",
       "1   44    technician   single  secondary       29            0            1   \n",
       "2   33  entrepreneur  married  secondary        2            0            1   \n",
       "3   47   blue-collar  married    unknown     1506            0            1   \n",
       "4   33       unknown   single    unknown        1            0            0   \n",
       "\n",
       "   loan_yes  \n",
       "0         0  \n",
       "1         0  \n",
       "2         1  \n",
       "3         0  \n",
       "4         0  "
      ]
     },
     "execution_count": 48,
     "metadata": {},
     "output_type": "execute_result"
    }
   ],
   "source": [
    "amostra5_1 = amostra5_1.drop(['housing', 'housing_no', 'default', 'default_no', 'loan', 'loan_no'], axis=1)\n",
    "amostra5_1.head()"
   ]
  },
  {
   "cell_type": "code",
   "execution_count": 49,
   "metadata": {},
   "outputs": [
    {
     "name": "stdout",
     "output_type": "stream",
     "text": [
      "Education:  ['tertiary' 'secondary' 'unknown' 'primary']\n",
      "Marital:  ['married' 'single' 'divorced']\n"
     ]
    }
   ],
   "source": [
    "print('Education: ', amostra5_1['education'].unique())\n",
    "print('Marital: ', amostra5_1['marital'].unique())"
   ]
  },
  {
   "cell_type": "code",
   "execution_count": 50,
   "metadata": {},
   "outputs": [],
   "source": [
    "amostra5_1['edu_number'] = [1 if row == 'primary' else \n",
    "                            2 if row == 'secondary' else \n",
    "                            3 if row=='tertiary' else 0 \n",
    "                            for row in amostra5_1['education']]\n",
    "\n",
    "\n",
    "amostra5_1['marital_number'] = [0 if row=='divorced' else \n",
    "                               1 if row=='single' else 2 \n",
    "                               for row in amostra5_1['marital']]\n"
   ]
  },
  {
   "cell_type": "code",
   "execution_count": 51,
   "metadata": {},
   "outputs": [],
   "source": [
    "amostra5_1 = amostra5_1.drop(['marital', 'education'], axis = 1)"
   ]
  },
  {
   "cell_type": "code",
   "execution_count": 52,
   "metadata": {},
   "outputs": [
    {
     "data": {
      "text/html": [
       "<div>\n",
       "<style scoped>\n",
       "    .dataframe tbody tr th:only-of-type {\n",
       "        vertical-align: middle;\n",
       "    }\n",
       "\n",
       "    .dataframe tbody tr th {\n",
       "        vertical-align: top;\n",
       "    }\n",
       "\n",
       "    .dataframe thead th {\n",
       "        text-align: right;\n",
       "    }\n",
       "</style>\n",
       "<table border=\"1\" class=\"dataframe\">\n",
       "  <thead>\n",
       "    <tr style=\"text-align: right;\">\n",
       "      <th></th>\n",
       "      <th>job</th>\n",
       "      <th>job_number</th>\n",
       "    </tr>\n",
       "  </thead>\n",
       "  <tbody>\n",
       "    <tr>\n",
       "      <th>0</th>\n",
       "      <td>management</td>\n",
       "      <td>0</td>\n",
       "    </tr>\n",
       "    <tr>\n",
       "      <th>1</th>\n",
       "      <td>technician</td>\n",
       "      <td>1</td>\n",
       "    </tr>\n",
       "    <tr>\n",
       "      <th>2</th>\n",
       "      <td>entrepreneur</td>\n",
       "      <td>2</td>\n",
       "    </tr>\n",
       "    <tr>\n",
       "      <th>3</th>\n",
       "      <td>blue-collar</td>\n",
       "      <td>3</td>\n",
       "    </tr>\n",
       "    <tr>\n",
       "      <th>4</th>\n",
       "      <td>unknown</td>\n",
       "      <td>4</td>\n",
       "    </tr>\n",
       "    <tr>\n",
       "      <th>5</th>\n",
       "      <td>retired</td>\n",
       "      <td>5</td>\n",
       "    </tr>\n",
       "    <tr>\n",
       "      <th>6</th>\n",
       "      <td>admin.</td>\n",
       "      <td>6</td>\n",
       "    </tr>\n",
       "    <tr>\n",
       "      <th>7</th>\n",
       "      <td>services</td>\n",
       "      <td>7</td>\n",
       "    </tr>\n",
       "    <tr>\n",
       "      <th>8</th>\n",
       "      <td>self-employed</td>\n",
       "      <td>8</td>\n",
       "    </tr>\n",
       "    <tr>\n",
       "      <th>9</th>\n",
       "      <td>unemployed</td>\n",
       "      <td>9</td>\n",
       "    </tr>\n",
       "    <tr>\n",
       "      <th>10</th>\n",
       "      <td>housemaid</td>\n",
       "      <td>10</td>\n",
       "    </tr>\n",
       "    <tr>\n",
       "      <th>11</th>\n",
       "      <td>student</td>\n",
       "      <td>11</td>\n",
       "    </tr>\n",
       "  </tbody>\n",
       "</table>\n",
       "</div>"
      ],
      "text/plain": [
       "              job  job_number\n",
       "0      management           0\n",
       "1      technician           1\n",
       "2    entrepreneur           2\n",
       "3     blue-collar           3\n",
       "4         unknown           4\n",
       "5         retired           5\n",
       "6          admin.           6\n",
       "7        services           7\n",
       "8   self-employed           8\n",
       "9      unemployed           9\n",
       "10      housemaid          10\n",
       "11        student          11"
      ]
     },
     "execution_count": 52,
     "metadata": {},
     "output_type": "execute_result"
    }
   ],
   "source": [
    "lista_job = amostra5_1['job'].unique().tolist()\n",
    "num_job = np.arange(0, len(lista_job)).tolist()\n",
    "df_job = pd.DataFrame(list(zip(lista_job,num_job)), columns = ['job', 'job_number'])\n",
    "df_job"
   ]
  },
  {
   "cell_type": "code",
   "execution_count": 53,
   "metadata": {},
   "outputs": [],
   "source": [
    "amostra5_2 = pd.merge(amostra5_1, df_job, on='job')\n",
    "amostra5_2 = amostra5_2.drop('job', axis=1)"
   ]
  },
  {
   "cell_type": "code",
   "execution_count": 54,
   "metadata": {},
   "outputs": [
    {
     "data": {
      "text/html": [
       "<div>\n",
       "<style scoped>\n",
       "    .dataframe tbody tr th:only-of-type {\n",
       "        vertical-align: middle;\n",
       "    }\n",
       "\n",
       "    .dataframe tbody tr th {\n",
       "        vertical-align: top;\n",
       "    }\n",
       "\n",
       "    .dataframe thead th {\n",
       "        text-align: right;\n",
       "    }\n",
       "</style>\n",
       "<table border=\"1\" class=\"dataframe\">\n",
       "  <thead>\n",
       "    <tr style=\"text-align: right;\">\n",
       "      <th></th>\n",
       "      <th>age</th>\n",
       "      <th>balance</th>\n",
       "      <th>default_yes</th>\n",
       "      <th>housing_yes</th>\n",
       "      <th>loan_yes</th>\n",
       "      <th>edu_number</th>\n",
       "      <th>marital_number</th>\n",
       "      <th>job_number</th>\n",
       "    </tr>\n",
       "  </thead>\n",
       "  <tbody>\n",
       "    <tr>\n",
       "      <th>0</th>\n",
       "      <td>58</td>\n",
       "      <td>2143</td>\n",
       "      <td>0</td>\n",
       "      <td>1</td>\n",
       "      <td>0</td>\n",
       "      <td>3</td>\n",
       "      <td>2</td>\n",
       "      <td>0</td>\n",
       "    </tr>\n",
       "    <tr>\n",
       "      <th>1</th>\n",
       "      <td>35</td>\n",
       "      <td>231</td>\n",
       "      <td>0</td>\n",
       "      <td>1</td>\n",
       "      <td>0</td>\n",
       "      <td>3</td>\n",
       "      <td>2</td>\n",
       "      <td>0</td>\n",
       "    </tr>\n",
       "    <tr>\n",
       "      <th>2</th>\n",
       "      <td>28</td>\n",
       "      <td>447</td>\n",
       "      <td>0</td>\n",
       "      <td>1</td>\n",
       "      <td>1</td>\n",
       "      <td>3</td>\n",
       "      <td>1</td>\n",
       "      <td>0</td>\n",
       "    </tr>\n",
       "    <tr>\n",
       "      <th>3</th>\n",
       "      <td>56</td>\n",
       "      <td>779</td>\n",
       "      <td>0</td>\n",
       "      <td>1</td>\n",
       "      <td>0</td>\n",
       "      <td>3</td>\n",
       "      <td>2</td>\n",
       "      <td>0</td>\n",
       "    </tr>\n",
       "    <tr>\n",
       "      <th>4</th>\n",
       "      <td>39</td>\n",
       "      <td>255</td>\n",
       "      <td>0</td>\n",
       "      <td>1</td>\n",
       "      <td>0</td>\n",
       "      <td>3</td>\n",
       "      <td>1</td>\n",
       "      <td>0</td>\n",
       "    </tr>\n",
       "  </tbody>\n",
       "</table>\n",
       "</div>"
      ],
      "text/plain": [
       "   age  balance  default_yes  housing_yes  loan_yes  edu_number  \\\n",
       "0   58     2143            0            1         0           3   \n",
       "1   35      231            0            1         0           3   \n",
       "2   28      447            0            1         1           3   \n",
       "3   56      779            0            1         0           3   \n",
       "4   39      255            0            1         0           3   \n",
       "\n",
       "   marital_number  job_number  \n",
       "0               2           0  \n",
       "1               2           0  \n",
       "2               1           0  \n",
       "3               2           0  \n",
       "4               1           0  "
      ]
     },
     "execution_count": 54,
     "metadata": {},
     "output_type": "execute_result"
    }
   ],
   "source": [
    "amostra5_2.head()"
   ]
  },
  {
   "cell_type": "markdown",
   "metadata": {},
   "source": [
    "</br>\n",
    "Para verificar a importancia das variaveis de perfil dos clientes será utilizada a análise por árvores."
   ]
  },
  {
   "cell_type": "code",
   "execution_count": 55,
   "metadata": {},
   "outputs": [],
   "source": [
    "from sklearn.model_selection import train_test_split\n",
    "from sklearn.ensemble import RandomForestClassifier\n",
    "from sklearn.metrics import accuracy_score, recall_score, precision_score, f1_score"
   ]
  },
  {
   "cell_type": "code",
   "execution_count": 56,
   "metadata": {},
   "outputs": [],
   "source": [
    "X = amostra5_2.drop('default_yes', axis=1).values\n",
    "y = amostra5_2['default_yes'].values\n",
    "pp= amostra5_2.drop('default_yes', axis=1)\n",
    "x_train, x_test, y_train, y_test = train_test_split(X, y, test_size = 0.3, random_state=42)\n",
    "rfc = RandomForestClassifier(n_estimators=100)\n",
    "rfc.fit(x_train, y_train)\n",
    "feature_importances = pd.DataFrame(rfc.feature_importances_,index = pp.columns,\n",
    "                                   columns=['importancia']).sort_values('importancia',ascending=False)"
   ]
  },
  {
   "cell_type": "code",
   "execution_count": 57,
   "metadata": {},
   "outputs": [
    {
     "data": {
      "text/html": [
       "<div>\n",
       "<style scoped>\n",
       "    .dataframe tbody tr th:only-of-type {\n",
       "        vertical-align: middle;\n",
       "    }\n",
       "\n",
       "    .dataframe tbody tr th {\n",
       "        vertical-align: top;\n",
       "    }\n",
       "\n",
       "    .dataframe thead th {\n",
       "        text-align: right;\n",
       "    }\n",
       "</style>\n",
       "<table border=\"1\" class=\"dataframe\">\n",
       "  <thead>\n",
       "    <tr style=\"text-align: right;\">\n",
       "      <th></th>\n",
       "      <th>importancia</th>\n",
       "    </tr>\n",
       "  </thead>\n",
       "  <tbody>\n",
       "    <tr>\n",
       "      <th>balance</th>\n",
       "      <td>0.516086</td>\n",
       "    </tr>\n",
       "    <tr>\n",
       "      <th>age</th>\n",
       "      <td>0.252339</td>\n",
       "    </tr>\n",
       "    <tr>\n",
       "      <th>job_number</th>\n",
       "      <td>0.112357</td>\n",
       "    </tr>\n",
       "    <tr>\n",
       "      <th>edu_number</th>\n",
       "      <td>0.047637</td>\n",
       "    </tr>\n",
       "    <tr>\n",
       "      <th>marital_number</th>\n",
       "      <td>0.036188</td>\n",
       "    </tr>\n",
       "    <tr>\n",
       "      <th>housing_yes</th>\n",
       "      <td>0.020815</td>\n",
       "    </tr>\n",
       "    <tr>\n",
       "      <th>loan_yes</th>\n",
       "      <td>0.014578</td>\n",
       "    </tr>\n",
       "  </tbody>\n",
       "</table>\n",
       "</div>"
      ],
      "text/plain": [
       "                importancia\n",
       "balance            0.516086\n",
       "age                0.252339\n",
       "job_number         0.112357\n",
       "edu_number         0.047637\n",
       "marital_number     0.036188\n",
       "housing_yes        0.020815\n",
       "loan_yes           0.014578"
      ]
     },
     "execution_count": 57,
     "metadata": {},
     "output_type": "execute_result"
    }
   ],
   "source": [
    "feature_importances"
   ]
  },
  {
   "cell_type": "code",
   "execution_count": null,
   "metadata": {},
   "outputs": [],
   "source": []
  },
  {
   "cell_type": "markdown",
   "metadata": {},
   "source": [
    "### 6-Quais são as características mais proeminentes de um cliente que possua empréstimo imobiliário?\n",
    "#### Resposta: \n",
    "    . 60,97% do total são casados</br>\n",
    "    . 55,85% do total tem o segundo grau</br>\n",
    "    . embora a faixa etária com maior percentual é a de 32 a 37 anos, com 28,91%, os percentuais estão bem divididos nas categorias.</br>"
   ]
  },
  {
   "cell_type": "code",
   "execution_count": 58,
   "metadata": {},
   "outputs": [],
   "source": [
    "amostra6 = amostra.drop(['contact', 'day', 'month', 'duration', 'campaign', 'pdays', 'previous', 'poutcome', 'y'], axis = 1)"
   ]
  },
  {
   "cell_type": "code",
   "execution_count": 59,
   "metadata": {},
   "outputs": [
    {
     "data": {
      "text/html": [
       "<div>\n",
       "<style scoped>\n",
       "    .dataframe tbody tr th:only-of-type {\n",
       "        vertical-align: middle;\n",
       "    }\n",
       "\n",
       "    .dataframe tbody tr th {\n",
       "        vertical-align: top;\n",
       "    }\n",
       "\n",
       "    .dataframe thead th {\n",
       "        text-align: right;\n",
       "    }\n",
       "</style>\n",
       "<table border=\"1\" class=\"dataframe\">\n",
       "  <thead>\n",
       "    <tr style=\"text-align: right;\">\n",
       "      <th></th>\n",
       "      <th>age</th>\n",
       "      <th>job</th>\n",
       "      <th>marital</th>\n",
       "      <th>education</th>\n",
       "      <th>default</th>\n",
       "      <th>balance</th>\n",
       "      <th>housing</th>\n",
       "      <th>loan</th>\n",
       "      <th>housing_no</th>\n",
       "      <th>housing_yes</th>\n",
       "      <th>loan_no</th>\n",
       "      <th>loan_yes</th>\n",
       "      <th>default_no</th>\n",
       "      <th>default_yes</th>\n",
       "    </tr>\n",
       "  </thead>\n",
       "  <tbody>\n",
       "    <tr>\n",
       "      <th>0</th>\n",
       "      <td>58</td>\n",
       "      <td>management</td>\n",
       "      <td>married</td>\n",
       "      <td>tertiary</td>\n",
       "      <td>no</td>\n",
       "      <td>2143</td>\n",
       "      <td>yes</td>\n",
       "      <td>no</td>\n",
       "      <td>0</td>\n",
       "      <td>1</td>\n",
       "      <td>1</td>\n",
       "      <td>0</td>\n",
       "      <td>1</td>\n",
       "      <td>0</td>\n",
       "    </tr>\n",
       "    <tr>\n",
       "      <th>1</th>\n",
       "      <td>44</td>\n",
       "      <td>technician</td>\n",
       "      <td>single</td>\n",
       "      <td>secondary</td>\n",
       "      <td>no</td>\n",
       "      <td>29</td>\n",
       "      <td>yes</td>\n",
       "      <td>no</td>\n",
       "      <td>0</td>\n",
       "      <td>1</td>\n",
       "      <td>1</td>\n",
       "      <td>0</td>\n",
       "      <td>1</td>\n",
       "      <td>0</td>\n",
       "    </tr>\n",
       "    <tr>\n",
       "      <th>2</th>\n",
       "      <td>33</td>\n",
       "      <td>entrepreneur</td>\n",
       "      <td>married</td>\n",
       "      <td>secondary</td>\n",
       "      <td>no</td>\n",
       "      <td>2</td>\n",
       "      <td>yes</td>\n",
       "      <td>yes</td>\n",
       "      <td>0</td>\n",
       "      <td>1</td>\n",
       "      <td>0</td>\n",
       "      <td>1</td>\n",
       "      <td>1</td>\n",
       "      <td>0</td>\n",
       "    </tr>\n",
       "    <tr>\n",
       "      <th>3</th>\n",
       "      <td>47</td>\n",
       "      <td>blue-collar</td>\n",
       "      <td>married</td>\n",
       "      <td>unknown</td>\n",
       "      <td>no</td>\n",
       "      <td>1506</td>\n",
       "      <td>yes</td>\n",
       "      <td>no</td>\n",
       "      <td>0</td>\n",
       "      <td>1</td>\n",
       "      <td>1</td>\n",
       "      <td>0</td>\n",
       "      <td>1</td>\n",
       "      <td>0</td>\n",
       "    </tr>\n",
       "    <tr>\n",
       "      <th>4</th>\n",
       "      <td>33</td>\n",
       "      <td>unknown</td>\n",
       "      <td>single</td>\n",
       "      <td>unknown</td>\n",
       "      <td>no</td>\n",
       "      <td>1</td>\n",
       "      <td>no</td>\n",
       "      <td>no</td>\n",
       "      <td>1</td>\n",
       "      <td>0</td>\n",
       "      <td>1</td>\n",
       "      <td>0</td>\n",
       "      <td>1</td>\n",
       "      <td>0</td>\n",
       "    </tr>\n",
       "  </tbody>\n",
       "</table>\n",
       "</div>"
      ],
      "text/plain": [
       "   age           job  marital  education default  balance housing loan  \\\n",
       "0   58    management  married   tertiary      no     2143     yes   no   \n",
       "1   44    technician   single  secondary      no       29     yes   no   \n",
       "2   33  entrepreneur  married  secondary      no        2     yes  yes   \n",
       "3   47   blue-collar  married    unknown      no     1506     yes   no   \n",
       "4   33       unknown   single    unknown      no        1      no   no   \n",
       "\n",
       "   housing_no  housing_yes  loan_no  loan_yes  default_no  default_yes  \n",
       "0           0            1        1         0           1            0  \n",
       "1           0            1        1         0           1            0  \n",
       "2           0            1        0         1           1            0  \n",
       "3           0            1        1         0           1            0  \n",
       "4           1            0        1         0           1            0  "
      ]
     },
     "execution_count": 59,
     "metadata": {},
     "output_type": "execute_result"
    }
   ],
   "source": [
    "amostra6_1 = pd.get_dummies(amostra6[['housing', 'loan','default']])\n",
    "amostra6_1 = pd.concat([amostra6,amostra6_1],axis=1)\n",
    "amostra6_1.head()"
   ]
  },
  {
   "cell_type": "code",
   "execution_count": 60,
   "metadata": {},
   "outputs": [
    {
     "data": {
      "text/plain": [
       "Index(['age', 'job', 'marital', 'education', 'default', 'balance', 'housing',\n",
       "       'loan', 'housing_no', 'housing_yes', 'loan_no', 'loan_yes',\n",
       "       'default_no', 'default_yes'],\n",
       "      dtype='object')"
      ]
     },
     "execution_count": 60,
     "metadata": {},
     "output_type": "execute_result"
    }
   ],
   "source": [
    "amostra6_1.columns"
   ]
  },
  {
   "cell_type": "code",
   "execution_count": 61,
   "metadata": {},
   "outputs": [],
   "source": [
    "amostra6_1 = amostra6_1.drop(columns=['default', 'balance', 'housing', 'loan', 'housing_no','loan_no','default_no'], axis=1)"
   ]
  },
  {
   "cell_type": "code",
   "execution_count": 62,
   "metadata": {},
   "outputs": [
    {
     "name": "stdout",
     "output_type": "stream",
     "text": [
      "Education:  ['tertiary' 'secondary' 'unknown' 'primary']\n",
      "Marital:  ['married' 'single' 'divorced']\n"
     ]
    }
   ],
   "source": [
    "print('Education: ', amostra6_1['education'].unique())\n",
    "print('Marital: ', amostra6_1['marital'].unique())"
   ]
  },
  {
   "cell_type": "code",
   "execution_count": 63,
   "metadata": {},
   "outputs": [],
   "source": [
    "amostra6_1['edu_number'] = [1 if row == 'primary' else \n",
    "                            2 if row == 'secondary' else \n",
    "                            3 if row=='tertiary' else 0 \n",
    "                            for row in amostra6_1['education']]\n",
    "\n",
    "\n",
    "amostra6_1['marital_number'] = [0 if row=='divorced' else \n",
    "                               1 if row=='single' else 2 \n",
    "                               for row in amostra6_1['marital']]\n"
   ]
  },
  {
   "cell_type": "code",
   "execution_count": 64,
   "metadata": {},
   "outputs": [],
   "source": [
    "amostra6_1 = amostra6_1.drop(['marital', 'education'], axis = 1)"
   ]
  },
  {
   "cell_type": "code",
   "execution_count": 65,
   "metadata": {},
   "outputs": [
    {
     "data": {
      "text/html": [
       "<div>\n",
       "<style scoped>\n",
       "    .dataframe tbody tr th:only-of-type {\n",
       "        vertical-align: middle;\n",
       "    }\n",
       "\n",
       "    .dataframe tbody tr th {\n",
       "        vertical-align: top;\n",
       "    }\n",
       "\n",
       "    .dataframe thead th {\n",
       "        text-align: right;\n",
       "    }\n",
       "</style>\n",
       "<table border=\"1\" class=\"dataframe\">\n",
       "  <thead>\n",
       "    <tr style=\"text-align: right;\">\n",
       "      <th></th>\n",
       "      <th>age</th>\n",
       "      <th>job</th>\n",
       "      <th>housing_yes</th>\n",
       "      <th>loan_yes</th>\n",
       "      <th>default_yes</th>\n",
       "      <th>edu_number</th>\n",
       "      <th>marital_number</th>\n",
       "    </tr>\n",
       "  </thead>\n",
       "  <tbody>\n",
       "    <tr>\n",
       "      <th>0</th>\n",
       "      <td>58</td>\n",
       "      <td>management</td>\n",
       "      <td>1</td>\n",
       "      <td>0</td>\n",
       "      <td>0</td>\n",
       "      <td>3</td>\n",
       "      <td>2</td>\n",
       "    </tr>\n",
       "    <tr>\n",
       "      <th>1</th>\n",
       "      <td>44</td>\n",
       "      <td>technician</td>\n",
       "      <td>1</td>\n",
       "      <td>0</td>\n",
       "      <td>0</td>\n",
       "      <td>2</td>\n",
       "      <td>1</td>\n",
       "    </tr>\n",
       "    <tr>\n",
       "      <th>2</th>\n",
       "      <td>33</td>\n",
       "      <td>entrepreneur</td>\n",
       "      <td>1</td>\n",
       "      <td>1</td>\n",
       "      <td>0</td>\n",
       "      <td>2</td>\n",
       "      <td>2</td>\n",
       "    </tr>\n",
       "    <tr>\n",
       "      <th>3</th>\n",
       "      <td>47</td>\n",
       "      <td>blue-collar</td>\n",
       "      <td>1</td>\n",
       "      <td>0</td>\n",
       "      <td>0</td>\n",
       "      <td>0</td>\n",
       "      <td>2</td>\n",
       "    </tr>\n",
       "    <tr>\n",
       "      <th>5</th>\n",
       "      <td>35</td>\n",
       "      <td>management</td>\n",
       "      <td>1</td>\n",
       "      <td>0</td>\n",
       "      <td>0</td>\n",
       "      <td>3</td>\n",
       "      <td>2</td>\n",
       "    </tr>\n",
       "  </tbody>\n",
       "</table>\n",
       "</div>"
      ],
      "text/plain": [
       "   age           job  housing_yes  loan_yes  default_yes  edu_number  \\\n",
       "0   58    management            1         0            0           3   \n",
       "1   44    technician            1         0            0           2   \n",
       "2   33  entrepreneur            1         1            0           2   \n",
       "3   47   blue-collar            1         0            0           0   \n",
       "5   35    management            1         0            0           3   \n",
       "\n",
       "   marital_number  \n",
       "0               2  \n",
       "1               1  \n",
       "2               2  \n",
       "3               2  \n",
       "5               2  "
      ]
     },
     "execution_count": 65,
     "metadata": {},
     "output_type": "execute_result"
    }
   ],
   "source": [
    "amostra6_2 = amostra6_1[amostra6_1['housing_yes']==1]\n",
    "amostra6_2.head()"
   ]
  },
  {
   "cell_type": "code",
   "execution_count": 66,
   "metadata": {},
   "outputs": [],
   "source": [
    "def faixa_idade(n):\n",
    "    if (n < 21):\n",
    "        saida = 'menor que 21'\n",
    "    elif (n < 32):\n",
    "        saida = 'entre 21 e 31'\n",
    "    elif (n < 38):\n",
    "        saida = 'entre 32 e 37'\n",
    "    elif (n< 46):\n",
    "        saida = 'entre 38 e 45'\n",
    "    else:\n",
    "        saida = 'maior que 45'\n",
    "    \n",
    "    return(saida)"
   ]
  },
  {
   "cell_type": "code",
   "execution_count": 67,
   "metadata": {},
   "outputs": [
    {
     "name": "stderr",
     "output_type": "stream",
     "text": [
      "D:\\SW_instalado\\Anaconda3\\lib\\site-packages\\ipykernel_launcher.py:1: SettingWithCopyWarning: \n",
      "A value is trying to be set on a copy of a slice from a DataFrame.\n",
      "Try using .loc[row_indexer,col_indexer] = value instead\n",
      "\n",
      "See the caveats in the documentation: http://pandas.pydata.org/pandas-docs/stable/user_guide/indexing.html#returning-a-view-versus-a-copy\n",
      "  \"\"\"Entry point for launching an IPython kernel.\n"
     ]
    }
   ],
   "source": [
    "amostra6_2['age_range'] = amostra6_2['age'].apply(faixa_idade)"
   ]
  },
  {
   "cell_type": "code",
   "execution_count": 69,
   "metadata": {},
   "outputs": [
    {
     "data": {
      "image/png": "[encoded data removed]",
      "text/plain": [
       "<Figure size 1008x432 with 1 Axes>"
      ]
     },
     "metadata": {
      "needs_background": "light"
     },
     "output_type": "display_data"
    }
   ],
   "source": [
    "byjob6_21 = amostra6_2.groupby('age_range').sum()\n",
    "byjob6_21['age_range'] = byjob6_21.index\n",
    "\n",
    "plt.figure(figsize=(14,6))\n",
    "plt.title('Distribuição de idade')\n",
    "graf_barra = sns.barplot(x='age_range',y='housing_yes',data=byjob6_21)\n",
    "for g in graf_barra.patches:\n",
    "        graf_barra.annotate('{:.0f}'.format(g.get_height()), (g.get_x()+0.3, g.get_height()),\n",
    "                    ha='center', va='bottom',\n",
    "                    color= 'black')"
   ]
  },
  {
   "cell_type": "code",
   "execution_count": 70,
   "metadata": {},
   "outputs": [
    {
     "data": {
      "text/html": [
       "<div>\n",
       "<style scoped>\n",
       "    .dataframe tbody tr th:only-of-type {\n",
       "        vertical-align: middle;\n",
       "    }\n",
       "\n",
       "    .dataframe tbody tr th {\n",
       "        vertical-align: top;\n",
       "    }\n",
       "\n",
       "    .dataframe thead th {\n",
       "        text-align: right;\n",
       "    }\n",
       "</style>\n",
       "<table border=\"1\" class=\"dataframe\">\n",
       "  <thead>\n",
       "    <tr style=\"text-align: right;\">\n",
       "      <th></th>\n",
       "      <th>0</th>\n",
       "      <th>1</th>\n",
       "      <th>2</th>\n",
       "      <th>3</th>\n",
       "      <th>4</th>\n",
       "    </tr>\n",
       "  </thead>\n",
       "  <tbody>\n",
       "    <tr>\n",
       "      <th>0</th>\n",
       "      <td>entre 21 e 31</td>\n",
       "      <td>entre 32 e 37</td>\n",
       "      <td>entre 38 e 45</td>\n",
       "      <td>maior que 45</td>\n",
       "      <td>menor que 21</td>\n",
       "    </tr>\n",
       "    <tr>\n",
       "      <th>1</th>\n",
       "      <td>20.95</td>\n",
       "      <td>28.91</td>\n",
       "      <td>25.6</td>\n",
       "      <td>24.5</td>\n",
       "      <td>0.05</td>\n",
       "    </tr>\n",
       "  </tbody>\n",
       "</table>\n",
       "</div>"
      ],
      "text/plain": [
       "               0              1              2             3             4\n",
       "0  entre 21 e 31  entre 32 e 37  entre 38 e 45  maior que 45  menor que 21\n",
       "1          20.95          28.91           25.6          24.5          0.05"
      ]
     },
     "execution_count": 70,
     "metadata": {},
     "output_type": "execute_result"
    }
   ],
   "source": [
    "titulo = byjob6_21['housing_yes'].index.tolist()\n",
    "valores = byjob6_21['housing_yes'].tolist()\n",
    "soma = sum(valores)\n",
    "\n",
    "val_perc = []\n",
    "\n",
    "for i in valores:\n",
    "    val_perc.append(round((float(i)/soma)*100, 2))\n",
    "\n",
    "val_perc    \n",
    "\n",
    "df6 = pd.DataFrame([titulo, val_perc])    \n",
    "df6"
   ]
  },
  {
   "cell_type": "code",
   "execution_count": 71,
   "metadata": {},
   "outputs": [
    {
     "data": {
      "image/png": "[encoded data removed]",
      "text/plain": [
       "<Figure size 1008x432 with 1 Axes>"
      ]
     },
     "metadata": {
      "needs_background": "light"
     },
     "output_type": "display_data"
    }
   ],
   "source": [
    "byjob6_22 = amostra6_2.groupby('job').sum()\n",
    "byjob6_22['job'] = byjob6_22.index\n",
    "\n",
    "plt.figure(figsize=(14,6))\n",
    "plt.title('Distribuição de job')\n",
    "graf_barra = sns.barplot(x='job',y='housing_yes',data=byjob6_22)\n",
    "for g in graf_barra.patches:\n",
    "        graf_barra.annotate('{:.0f}'.format(g.get_height()), (g.get_x()+0.3, g.get_height()),\n",
    "                    ha='center', va='bottom',\n",
    "                    color= 'black')"
   ]
  },
  {
   "cell_type": "code",
   "execution_count": 72,
   "metadata": {},
   "outputs": [
    {
     "data": {
      "text/html": [
       "<div>\n",
       "<style scoped>\n",
       "    .dataframe tbody tr th:only-of-type {\n",
       "        vertical-align: middle;\n",
       "    }\n",
       "\n",
       "    .dataframe tbody tr th {\n",
       "        vertical-align: top;\n",
       "    }\n",
       "\n",
       "    .dataframe thead th {\n",
       "        text-align: right;\n",
       "    }\n",
       "</style>\n",
       "<table border=\"1\" class=\"dataframe\">\n",
       "  <thead>\n",
       "    <tr style=\"text-align: right;\">\n",
       "      <th></th>\n",
       "      <th>0</th>\n",
       "      <th>1</th>\n",
       "      <th>2</th>\n",
       "      <th>3</th>\n",
       "      <th>4</th>\n",
       "      <th>5</th>\n",
       "      <th>6</th>\n",
       "      <th>7</th>\n",
       "      <th>8</th>\n",
       "      <th>9</th>\n",
       "      <th>10</th>\n",
       "      <th>11</th>\n",
       "    </tr>\n",
       "  </thead>\n",
       "  <tbody>\n",
       "    <tr>\n",
       "      <th>0</th>\n",
       "      <td>admin.</td>\n",
       "      <td>blue-collar</td>\n",
       "      <td>entrepreneur</td>\n",
       "      <td>housemaid</td>\n",
       "      <td>management</td>\n",
       "      <td>retired</td>\n",
       "      <td>self-employed</td>\n",
       "      <td>services</td>\n",
       "      <td>student</td>\n",
       "      <td>technician</td>\n",
       "      <td>unemployed</td>\n",
       "      <td>unknown</td>\n",
       "    </tr>\n",
       "    <tr>\n",
       "      <th>1</th>\n",
       "      <td>12.66</td>\n",
       "      <td>28.05</td>\n",
       "      <td>3.46</td>\n",
       "      <td>1.58</td>\n",
       "      <td>18.62</td>\n",
       "      <td>1.95</td>\n",
       "      <td>3.04</td>\n",
       "      <td>11.01</td>\n",
       "      <td>0.99</td>\n",
       "      <td>16.37</td>\n",
       "      <td>2.16</td>\n",
       "      <td>0.1</td>\n",
       "    </tr>\n",
       "  </tbody>\n",
       "</table>\n",
       "</div>"
      ],
      "text/plain": [
       "        0            1             2          3           4        5  \\\n",
       "0  admin.  blue-collar  entrepreneur  housemaid  management  retired   \n",
       "1   12.66        28.05          3.46       1.58       18.62     1.95   \n",
       "\n",
       "               6         7        8           9          10       11  \n",
       "0  self-employed  services  student  technician  unemployed  unknown  \n",
       "1           3.04     11.01     0.99       16.37        2.16      0.1  "
      ]
     },
     "execution_count": 72,
     "metadata": {},
     "output_type": "execute_result"
    }
   ],
   "source": [
    "titulo = byjob6_22['housing_yes'].index.tolist()\n",
    "valores = byjob6_22['housing_yes'].tolist()\n",
    "soma = sum(valores)\n",
    "\n",
    "val_perc = []\n",
    "\n",
    "for i in valores:\n",
    "    val_perc.append(round((float(i)/soma)*100, 2))\n",
    "\n",
    "val_perc    \n",
    "\n",
    "df6_1 = pd.DataFrame([titulo, val_perc])    \n",
    "df6_1"
   ]
  },
  {
   "cell_type": "code",
   "execution_count": 73,
   "metadata": {},
   "outputs": [
    {
     "data": {
      "image/png": "[encoded data removed]",
      "text/plain": [
       "<Figure size 1008x432 with 1 Axes>"
      ]
     },
     "metadata": {
      "needs_background": "light"
     },
     "output_type": "display_data"
    }
   ],
   "source": [
    "byjob6_23 = amostra6_2.groupby('edu_number').sum()\n",
    "byjob6_23['edu_number'] = byjob6_23.index\n",
    "\n",
    "plt.figure(figsize=(14,6))\n",
    "plt.title('Distribuição de grau de escolaridade')\n",
    "graf_barra = sns.barplot(x='edu_number',y='housing_yes',data=byjob6_23)\n",
    "for g in graf_barra.patches:\n",
    "        graf_barra.annotate('{:.0f}'.format(g.get_height()), (g.get_x()+0.3, g.get_height()),\n",
    "                    ha='center', va='bottom',\n",
    "                    color= 'black')"
   ]
  },
  {
   "cell_type": "code",
   "execution_count": 74,
   "metadata": {},
   "outputs": [
    {
     "data": {
      "text/html": [
       "<div>\n",
       "<style scoped>\n",
       "    .dataframe tbody tr th:only-of-type {\n",
       "        vertical-align: middle;\n",
       "    }\n",
       "\n",
       "    .dataframe tbody tr th {\n",
       "        vertical-align: top;\n",
       "    }\n",
       "\n",
       "    .dataframe thead th {\n",
       "        text-align: right;\n",
       "    }\n",
       "</style>\n",
       "<table border=\"1\" class=\"dataframe\">\n",
       "  <thead>\n",
       "    <tr style=\"text-align: right;\">\n",
       "      <th></th>\n",
       "      <th>0</th>\n",
       "      <th>1</th>\n",
       "      <th>2</th>\n",
       "      <th>3</th>\n",
       "    </tr>\n",
       "  </thead>\n",
       "  <tbody>\n",
       "    <tr>\n",
       "      <th>0</th>\n",
       "      <td>0.00</td>\n",
       "      <td>1.0</td>\n",
       "      <td>2.00</td>\n",
       "      <td>3.00</td>\n",
       "    </tr>\n",
       "    <tr>\n",
       "      <th>1</th>\n",
       "      <td>3.26</td>\n",
       "      <td>15.5</td>\n",
       "      <td>55.86</td>\n",
       "      <td>25.38</td>\n",
       "    </tr>\n",
       "  </tbody>\n",
       "</table>\n",
       "</div>"
      ],
      "text/plain": [
       "      0     1      2      3\n",
       "0  0.00   1.0   2.00   3.00\n",
       "1  3.26  15.5  55.86  25.38"
      ]
     },
     "execution_count": 74,
     "metadata": {},
     "output_type": "execute_result"
    }
   ],
   "source": [
    "titulo = byjob6_23['housing_yes'].index.tolist()\n",
    "valores = byjob6_23['housing_yes'].tolist()\n",
    "soma = sum(valores)\n",
    "\n",
    "val_perc = []\n",
    "\n",
    "for i in valores:\n",
    "    val_perc.append(round((float(i)/soma)*100, 2))\n",
    "\n",
    "val_perc    \n",
    "\n",
    "df6_23 = pd.DataFrame([titulo, val_perc])    \n",
    "df6_23"
   ]
  },
  {
   "cell_type": "code",
   "execution_count": 75,
   "metadata": {},
   "outputs": [
    {
     "data": {
      "image/png": "[encoded data removed]",
      "text/plain": [
       "<Figure size 1008x432 with 1 Axes>"
      ]
     },
     "metadata": {
      "needs_background": "light"
     },
     "output_type": "display_data"
    }
   ],
   "source": [
    "byjob6_24 = amostra6_2.groupby('marital_number').sum()\n",
    "byjob6_24['marital_number'] = byjob6_24.index\n",
    "\n",
    "plt.figure(figsize=(14,6))\n",
    "plt.title('Distribuição de estado civil')\n",
    "graf_barra = sns.barplot(x='marital_number',y='housing_yes',data=byjob6_24)\n",
    "for g in graf_barra.patches:\n",
    "        graf_barra.annotate('{:.0f}'.format(g.get_height()), (g.get_x()+0.3, g.get_height()),\n",
    "                    ha='center', va='bottom',\n",
    "                    color= 'black')"
   ]
  },
  {
   "cell_type": "code",
   "execution_count": 76,
   "metadata": {},
   "outputs": [
    {
     "data": {
      "text/html": [
       "<div>\n",
       "<style scoped>\n",
       "    .dataframe tbody tr th:only-of-type {\n",
       "        vertical-align: middle;\n",
       "    }\n",
       "\n",
       "    .dataframe tbody tr th {\n",
       "        vertical-align: top;\n",
       "    }\n",
       "\n",
       "    .dataframe thead th {\n",
       "        text-align: right;\n",
       "    }\n",
       "</style>\n",
       "<table border=\"1\" class=\"dataframe\">\n",
       "  <thead>\n",
       "    <tr style=\"text-align: right;\">\n",
       "      <th></th>\n",
       "      <th>0</th>\n",
       "      <th>1</th>\n",
       "      <th>2</th>\n",
       "    </tr>\n",
       "  </thead>\n",
       "  <tbody>\n",
       "    <tr>\n",
       "      <th>0</th>\n",
       "      <td>0.00</td>\n",
       "      <td>1.00</td>\n",
       "      <td>2.00</td>\n",
       "    </tr>\n",
       "    <tr>\n",
       "      <th>1</th>\n",
       "      <td>11.57</td>\n",
       "      <td>27.47</td>\n",
       "      <td>60.97</td>\n",
       "    </tr>\n",
       "  </tbody>\n",
       "</table>\n",
       "</div>"
      ],
      "text/plain": [
       "       0      1      2\n",
       "0   0.00   1.00   2.00\n",
       "1  11.57  27.47  60.97"
      ]
     },
     "execution_count": 76,
     "metadata": {},
     "output_type": "execute_result"
    }
   ],
   "source": [
    "titulo = byjob6_24['housing_yes'].index.tolist()\n",
    "valores = byjob6_24['housing_yes'].tolist()\n",
    "soma = sum(valores)\n",
    "\n",
    "val_perc = []\n",
    "\n",
    "for i in valores:\n",
    "    val_perc.append(round((float(i)/soma)*100, 2))\n",
    "\n",
    "val_perc    \n",
    "\n",
    "df6_24 = pd.DataFrame([titulo, val_perc])    \n",
    "df6_24"
   ]
  },
  {
   "cell_type": "code",
   "execution_count": null,
   "metadata": {},
   "outputs": [],
   "source": []
  }
 ],
 "metadata": {
  "kernelspec": {
   "display_name": "Python 3",
   "language": "python",
   "name": "python3"
  },
  "language_info": {
   "codemirror_mode": {
    "name": "ipython",
    "version": 3
   },
   "file_extension": ".py",
   "mimetype": "text/x-python",
   "name": "python",
   "nbconvert_exporter": "python",
   "pygments_lexer": "ipython3",
   "version": "3.6.7"
  }
 },
 "nbformat": 4,
 "nbformat_minor": 2
}
